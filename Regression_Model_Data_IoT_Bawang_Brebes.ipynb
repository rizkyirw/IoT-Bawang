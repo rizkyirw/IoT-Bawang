{
  "nbformat": 4,
  "nbformat_minor": 0,
  "metadata": {
    "colab": {
      "provenance": []
    },
    "kernelspec": {
      "name": "python3",
      "display_name": "Python 3"
    },
    "language_info": {
      "name": "python"
    }
  },
  "cells": [
    {
      "cell_type": "markdown",
      "source": [
        "### Regresi adalah metode pendekatan untuk menentukan suatu nilai berdasarkan pengaruh antar variabel dalam bentuk x dan y. Imputasi regresi memprediksi suatu nilai berdasarkan nilai pada kolom yang ada."
      ],
      "metadata": {
        "id": "5Y9GWeiARlfP"
      }
    },
    {
      "cell_type": "markdown",
      "source": [
        "## IMPORT LIBRARY DAN DATASET"
      ],
      "metadata": {
        "id": "tEcttlp9KdH6"
      }
    },
    {
      "cell_type": "code",
      "execution_count": null,
      "metadata": {
        "id": "KvGN8phykvbX"
      },
      "outputs": [],
      "source": [
        "import numpy as np\n",
        "import matplotlib.pyplot as plt\n",
        "import pandas as pd\n",
        "import seaborn as sns"
      ]
    },
    {
      "cell_type": "code",
      "source": [
        "import warnings\n",
        "warnings.filterwarnings('ignore')"
      ],
      "metadata": {
        "id": "W9YRtvkSW4g6"
      },
      "execution_count": null,
      "outputs": []
    },
    {
      "cell_type": "code",
      "source": [
        "sheet_id = \"14iXZbRxRT-g5GLZKR0DG4afbHF165VTR88II8X-zYl8\"\n",
        "sheet_name = \"Data-IOT-Regresi\"\n",
        "url = f\"https://docs.google.com/spreadsheets/d/{sheet_id}/gviz/tq?tqx=out:csv&sheet={sheet_name}\""
      ],
      "metadata": {
        "id": "COAv9ZCMk52A"
      },
      "execution_count": null,
      "outputs": []
    },
    {
      "cell_type": "markdown",
      "source": [
        "##REVIEW DATASET"
      ],
      "metadata": {
        "id": "B3L1rxkHKkpF"
      }
    },
    {
      "cell_type": "code",
      "source": [
        "df = pd.read_csv(url)\n",
        "df"
      ],
      "metadata": {
        "colab": {
          "base_uri": "https://localhost:8080/"
        },
        "id": "iq7QwWCnAO8u",
        "outputId": "f270851d-8a36-473f-893c-233110a1e24e"
      },
      "execution_count": null,
      "outputs": [
        {
          "output_type": "execute_result",
          "data": {
            "text/plain": [
              "      tanggal  datakecepatanangin  datasuhuudara  datakelembabanudara  \\\n",
              "0   12/1/2022                 NaN            NaN                  NaN   \n",
              "1   12/2/2022                 NaN            NaN                  NaN   \n",
              "2   12/3/2022                 NaN            NaN                  NaN   \n",
              "3   12/4/2022                 NaN            NaN                  NaN   \n",
              "4   12/5/2022                 NaN            NaN                  NaN   \n",
              "..        ...                 ...            ...                  ...   \n",
              "85  2/24/2023                 NaN            NaN                  NaN   \n",
              "86  2/25/2023                 NaN            NaN                  NaN   \n",
              "87  2/26/2023                 NaN            NaN                  NaN   \n",
              "88  2/27/2023                 NaN            NaN                  NaN   \n",
              "89  2/28/2023                 NaN            NaN                  NaN   \n",
              "\n",
              "    dataphtanah  datakelembabantanah  datasuhutanah  hargabrebes   \n",
              "0           NaN                  NaN            NaN         30000  \n",
              "1           NaN                  NaN            NaN         30000  \n",
              "2           NaN                  NaN            NaN         31000  \n",
              "3           NaN                  NaN            NaN         31000  \n",
              "4           NaN                  NaN            NaN         31000  \n",
              "..          ...                  ...            ...           ...  \n",
              "85          NaN                  NaN            NaN         35833  \n",
              "86          NaN                  NaN            NaN         35833  \n",
              "87          NaN                  NaN            NaN         35833  \n",
              "88          NaN                  NaN            NaN         37666  \n",
              "89          NaN                  NaN            NaN         35000  \n",
              "\n",
              "[90 rows x 8 columns]"
            ],
            "text/html": [
              "\n",
              "  <div id=\"df-01c6991c-c6b5-48ef-8f77-2ea8ddf0df6d\">\n",
              "    <div class=\"colab-df-container\">\n",
              "      <div>\n",
              "<style scoped>\n",
              "    .dataframe tbody tr th:only-of-type {\n",
              "        vertical-align: middle;\n",
              "    }\n",
              "\n",
              "    .dataframe tbody tr th {\n",
              "        vertical-align: top;\n",
              "    }\n",
              "\n",
              "    .dataframe thead th {\n",
              "        text-align: right;\n",
              "    }\n",
              "</style>\n",
              "<table border=\"1\" class=\"dataframe\">\n",
              "  <thead>\n",
              "    <tr style=\"text-align: right;\">\n",
              "      <th></th>\n",
              "      <th>tanggal</th>\n",
              "      <th>datakecepatanangin</th>\n",
              "      <th>datasuhuudara</th>\n",
              "      <th>datakelembabanudara</th>\n",
              "      <th>dataphtanah</th>\n",
              "      <th>datakelembabantanah</th>\n",
              "      <th>datasuhutanah</th>\n",
              "      <th>hargabrebes</th>\n",
              "    </tr>\n",
              "  </thead>\n",
              "  <tbody>\n",
              "    <tr>\n",
              "      <th>0</th>\n",
              "      <td>12/1/2022</td>\n",
              "      <td>NaN</td>\n",
              "      <td>NaN</td>\n",
              "      <td>NaN</td>\n",
              "      <td>NaN</td>\n",
              "      <td>NaN</td>\n",
              "      <td>NaN</td>\n",
              "      <td>30000</td>\n",
              "    </tr>\n",
              "    <tr>\n",
              "      <th>1</th>\n",
              "      <td>12/2/2022</td>\n",
              "      <td>NaN</td>\n",
              "      <td>NaN</td>\n",
              "      <td>NaN</td>\n",
              "      <td>NaN</td>\n",
              "      <td>NaN</td>\n",
              "      <td>NaN</td>\n",
              "      <td>30000</td>\n",
              "    </tr>\n",
              "    <tr>\n",
              "      <th>2</th>\n",
              "      <td>12/3/2022</td>\n",
              "      <td>NaN</td>\n",
              "      <td>NaN</td>\n",
              "      <td>NaN</td>\n",
              "      <td>NaN</td>\n",
              "      <td>NaN</td>\n",
              "      <td>NaN</td>\n",
              "      <td>31000</td>\n",
              "    </tr>\n",
              "    <tr>\n",
              "      <th>3</th>\n",
              "      <td>12/4/2022</td>\n",
              "      <td>NaN</td>\n",
              "      <td>NaN</td>\n",
              "      <td>NaN</td>\n",
              "      <td>NaN</td>\n",
              "      <td>NaN</td>\n",
              "      <td>NaN</td>\n",
              "      <td>31000</td>\n",
              "    </tr>\n",
              "    <tr>\n",
              "      <th>4</th>\n",
              "      <td>12/5/2022</td>\n",
              "      <td>NaN</td>\n",
              "      <td>NaN</td>\n",
              "      <td>NaN</td>\n",
              "      <td>NaN</td>\n",
              "      <td>NaN</td>\n",
              "      <td>NaN</td>\n",
              "      <td>31000</td>\n",
              "    </tr>\n",
              "    <tr>\n",
              "      <th>...</th>\n",
              "      <td>...</td>\n",
              "      <td>...</td>\n",
              "      <td>...</td>\n",
              "      <td>...</td>\n",
              "      <td>...</td>\n",
              "      <td>...</td>\n",
              "      <td>...</td>\n",
              "      <td>...</td>\n",
              "    </tr>\n",
              "    <tr>\n",
              "      <th>85</th>\n",
              "      <td>2/24/2023</td>\n",
              "      <td>NaN</td>\n",
              "      <td>NaN</td>\n",
              "      <td>NaN</td>\n",
              "      <td>NaN</td>\n",
              "      <td>NaN</td>\n",
              "      <td>NaN</td>\n",
              "      <td>35833</td>\n",
              "    </tr>\n",
              "    <tr>\n",
              "      <th>86</th>\n",
              "      <td>2/25/2023</td>\n",
              "      <td>NaN</td>\n",
              "      <td>NaN</td>\n",
              "      <td>NaN</td>\n",
              "      <td>NaN</td>\n",
              "      <td>NaN</td>\n",
              "      <td>NaN</td>\n",
              "      <td>35833</td>\n",
              "    </tr>\n",
              "    <tr>\n",
              "      <th>87</th>\n",
              "      <td>2/26/2023</td>\n",
              "      <td>NaN</td>\n",
              "      <td>NaN</td>\n",
              "      <td>NaN</td>\n",
              "      <td>NaN</td>\n",
              "      <td>NaN</td>\n",
              "      <td>NaN</td>\n",
              "      <td>35833</td>\n",
              "    </tr>\n",
              "    <tr>\n",
              "      <th>88</th>\n",
              "      <td>2/27/2023</td>\n",
              "      <td>NaN</td>\n",
              "      <td>NaN</td>\n",
              "      <td>NaN</td>\n",
              "      <td>NaN</td>\n",
              "      <td>NaN</td>\n",
              "      <td>NaN</td>\n",
              "      <td>37666</td>\n",
              "    </tr>\n",
              "    <tr>\n",
              "      <th>89</th>\n",
              "      <td>2/28/2023</td>\n",
              "      <td>NaN</td>\n",
              "      <td>NaN</td>\n",
              "      <td>NaN</td>\n",
              "      <td>NaN</td>\n",
              "      <td>NaN</td>\n",
              "      <td>NaN</td>\n",
              "      <td>35000</td>\n",
              "    </tr>\n",
              "  </tbody>\n",
              "</table>\n",
              "<p>90 rows × 8 columns</p>\n",
              "</div>\n",
              "      <button class=\"colab-df-convert\" onclick=\"convertToInteractive('df-01c6991c-c6b5-48ef-8f77-2ea8ddf0df6d')\"\n",
              "              title=\"Convert this dataframe to an interactive table.\"\n",
              "              style=\"display:none;\">\n",
              "        \n",
              "  <svg xmlns=\"http://www.w3.org/2000/svg\" height=\"24px\"viewBox=\"0 0 24 24\"\n",
              "       width=\"24px\">\n",
              "    <path d=\"M0 0h24v24H0V0z\" fill=\"none\"/>\n",
              "    <path d=\"M18.56 5.44l.94 2.06.94-2.06 2.06-.94-2.06-.94-.94-2.06-.94 2.06-2.06.94zm-11 1L8.5 8.5l.94-2.06 2.06-.94-2.06-.94L8.5 2.5l-.94 2.06-2.06.94zm10 10l.94 2.06.94-2.06 2.06-.94-2.06-.94-.94-2.06-.94 2.06-2.06.94z\"/><path d=\"M17.41 7.96l-1.37-1.37c-.4-.4-.92-.59-1.43-.59-.52 0-1.04.2-1.43.59L10.3 9.45l-7.72 7.72c-.78.78-.78 2.05 0 2.83L4 21.41c.39.39.9.59 1.41.59.51 0 1.02-.2 1.41-.59l7.78-7.78 2.81-2.81c.8-.78.8-2.07 0-2.86zM5.41 20L4 18.59l7.72-7.72 1.47 1.35L5.41 20z\"/>\n",
              "  </svg>\n",
              "      </button>\n",
              "      \n",
              "  <style>\n",
              "    .colab-df-container {\n",
              "      display:flex;\n",
              "      flex-wrap:wrap;\n",
              "      gap: 12px;\n",
              "    }\n",
              "\n",
              "    .colab-df-convert {\n",
              "      background-color: #E8F0FE;\n",
              "      border: none;\n",
              "      border-radius: 50%;\n",
              "      cursor: pointer;\n",
              "      display: none;\n",
              "      fill: #1967D2;\n",
              "      height: 32px;\n",
              "      padding: 0 0 0 0;\n",
              "      width: 32px;\n",
              "    }\n",
              "\n",
              "    .colab-df-convert:hover {\n",
              "      background-color: #E2EBFA;\n",
              "      box-shadow: 0px 1px 2px rgba(60, 64, 67, 0.3), 0px 1px 3px 1px rgba(60, 64, 67, 0.15);\n",
              "      fill: #174EA6;\n",
              "    }\n",
              "\n",
              "    [theme=dark] .colab-df-convert {\n",
              "      background-color: #3B4455;\n",
              "      fill: #D2E3FC;\n",
              "    }\n",
              "\n",
              "    [theme=dark] .colab-df-convert:hover {\n",
              "      background-color: #434B5C;\n",
              "      box-shadow: 0px 1px 3px 1px rgba(0, 0, 0, 0.15);\n",
              "      filter: drop-shadow(0px 1px 2px rgba(0, 0, 0, 0.3));\n",
              "      fill: #FFFFFF;\n",
              "    }\n",
              "  </style>\n",
              "\n",
              "      <script>\n",
              "        const buttonEl =\n",
              "          document.querySelector('#df-01c6991c-c6b5-48ef-8f77-2ea8ddf0df6d button.colab-df-convert');\n",
              "        buttonEl.style.display =\n",
              "          google.colab.kernel.accessAllowed ? 'block' : 'none';\n",
              "\n",
              "        async function convertToInteractive(key) {\n",
              "          const element = document.querySelector('#df-01c6991c-c6b5-48ef-8f77-2ea8ddf0df6d');\n",
              "          const dataTable =\n",
              "            await google.colab.kernel.invokeFunction('convertToInteractive',\n",
              "                                                     [key], {});\n",
              "          if (!dataTable) return;\n",
              "\n",
              "          const docLinkHtml = 'Like what you see? Visit the ' +\n",
              "            '<a target=\"_blank\" href=https://colab.research.google.com/notebooks/data_table.ipynb>data table notebook</a>'\n",
              "            + ' to learn more about interactive tables.';\n",
              "          element.innerHTML = '';\n",
              "          dataTable['output_type'] = 'display_data';\n",
              "          await google.colab.output.renderOutput(dataTable, element);\n",
              "          const docLink = document.createElement('div');\n",
              "          docLink.innerHTML = docLinkHtml;\n",
              "          element.appendChild(docLink);\n",
              "        }\n",
              "      </script>\n",
              "    </div>\n",
              "  </div>\n",
              "  "
            ]
          },
          "metadata": {},
          "execution_count": 4
        }
      ]
    },
    {
      "cell_type": "code",
      "source": [
        "df.info()"
      ],
      "metadata": {
        "colab": {
          "base_uri": "https://localhost:8080/"
        },
        "id": "4vVom-M2o0JM",
        "outputId": "d1dfa1a7-5aea-4d44-b849-179c534afa4b"
      },
      "execution_count": null,
      "outputs": [
        {
          "output_type": "stream",
          "name": "stdout",
          "text": [
            "<class 'pandas.core.frame.DataFrame'>\n",
            "RangeIndex: 90 entries, 0 to 89\n",
            "Data columns (total 8 columns):\n",
            " #   Column               Non-Null Count  Dtype  \n",
            "---  ------               --------------  -----  \n",
            " 0   tanggal              90 non-null     object \n",
            " 1   datakecepatanangin   55 non-null     float64\n",
            " 2   datasuhuudara        55 non-null     float64\n",
            " 3   datakelembabanudara  55 non-null     float64\n",
            " 4   dataphtanah          55 non-null     float64\n",
            " 5   datakelembabantanah  55 non-null     float64\n",
            " 6   datasuhutanah        55 non-null     float64\n",
            " 7   hargabrebes          90 non-null     int64  \n",
            "dtypes: float64(6), int64(1), object(1)\n",
            "memory usage: 5.8+ KB\n"
          ]
        }
      ]
    },
    {
      "cell_type": "markdown",
      "source": [
        "##COPY DATASET DAN TRANSFORMASI DTYPE TANGGAL"
      ],
      "metadata": {
        "id": "pOf0SCkvKqM9"
      }
    },
    {
      "cell_type": "code",
      "source": [
        "df_fix = df.copy()\n",
        "df_fix[\"tanggal\"] = pd.to_datetime(df_fix[\"tanggal\"], format='%m/%d/%Y')"
      ],
      "metadata": {
        "id": "_PmSnnLWN2rv"
      },
      "execution_count": null,
      "outputs": []
    },
    {
      "cell_type": "code",
      "source": [
        "df_fix = df_fix.set_index('tanggal')"
      ],
      "metadata": {
        "id": "HVHvOzom6n6k"
      },
      "execution_count": null,
      "outputs": []
    },
    {
      "cell_type": "markdown",
      "source": [
        "## IMPORT LIBRARY REGRESI"
      ],
      "metadata": {
        "id": "AZ-WPYS7F59A"
      }
    },
    {
      "cell_type": "code",
      "source": [
        "import missingno as mno\n",
        "from sklearn import linear_model\n",
        "%matplotlib inline"
      ],
      "metadata": {
        "id": "U7bYdt7fqfxe"
      },
      "execution_count": null,
      "outputs": []
    },
    {
      "cell_type": "code",
      "source": [
        "df_fix.describe()"
      ],
      "metadata": {
        "colab": {
          "base_uri": "https://localhost:8080/"
        },
        "id": "Osdz6LZYqjh2",
        "outputId": "1f0813da-a06f-4eee-82b6-a361385fc1e0"
      },
      "execution_count": null,
      "outputs": [
        {
          "output_type": "execute_result",
          "data": {
            "text/plain": [
              "       datakecepatanangin  datasuhuudara  datakelembabanudara  dataphtanah  \\\n",
              "count           55.000000      55.000000            55.000000    55.000000   \n",
              "mean            17.605455      27.165455            86.005455     5.083636   \n",
              "std              6.227877       4.331334            10.827424     1.170591   \n",
              "min              2.800000      21.000000            71.500000     3.000000   \n",
              "25%             14.700000      22.000000            76.400000     4.500000   \n",
              "50%             15.400000      27.500000            83.200000     4.900000   \n",
              "75%             24.900000      32.100000            96.900000     5.000000   \n",
              "max             29.200000      33.000000           122.000000     8.100000   \n",
              "\n",
              "       datakelembabantanah  datasuhutanah  hargabrebes   \n",
              "count            55.000000      55.000000     90.000000  \n",
              "mean             50.952727      23.058182  35269.100000  \n",
              "std              14.849290       7.643484   4898.803732  \n",
              "min              23.400000       7.400000  28000.000000  \n",
              "25%              41.600000      12.600000  31000.000000  \n",
              "50%              47.200000      27.000000  34541.000000  \n",
              "75%              62.200000      29.100000  39333.000000  \n",
              "max             123.000000      30.900000  46000.000000  "
            ],
            "text/html": [
              "\n",
              "  <div id=\"df-02b34bf6-f7ba-4ccb-a83d-8c90a7f83e37\">\n",
              "    <div class=\"colab-df-container\">\n",
              "      <div>\n",
              "<style scoped>\n",
              "    .dataframe tbody tr th:only-of-type {\n",
              "        vertical-align: middle;\n",
              "    }\n",
              "\n",
              "    .dataframe tbody tr th {\n",
              "        vertical-align: top;\n",
              "    }\n",
              "\n",
              "    .dataframe thead th {\n",
              "        text-align: right;\n",
              "    }\n",
              "</style>\n",
              "<table border=\"1\" class=\"dataframe\">\n",
              "  <thead>\n",
              "    <tr style=\"text-align: right;\">\n",
              "      <th></th>\n",
              "      <th>datakecepatanangin</th>\n",
              "      <th>datasuhuudara</th>\n",
              "      <th>datakelembabanudara</th>\n",
              "      <th>dataphtanah</th>\n",
              "      <th>datakelembabantanah</th>\n",
              "      <th>datasuhutanah</th>\n",
              "      <th>hargabrebes</th>\n",
              "    </tr>\n",
              "  </thead>\n",
              "  <tbody>\n",
              "    <tr>\n",
              "      <th>count</th>\n",
              "      <td>55.000000</td>\n",
              "      <td>55.000000</td>\n",
              "      <td>55.000000</td>\n",
              "      <td>55.000000</td>\n",
              "      <td>55.000000</td>\n",
              "      <td>55.000000</td>\n",
              "      <td>90.000000</td>\n",
              "    </tr>\n",
              "    <tr>\n",
              "      <th>mean</th>\n",
              "      <td>17.605455</td>\n",
              "      <td>27.165455</td>\n",
              "      <td>86.005455</td>\n",
              "      <td>5.083636</td>\n",
              "      <td>50.952727</td>\n",
              "      <td>23.058182</td>\n",
              "      <td>35269.100000</td>\n",
              "    </tr>\n",
              "    <tr>\n",
              "      <th>std</th>\n",
              "      <td>6.227877</td>\n",
              "      <td>4.331334</td>\n",
              "      <td>10.827424</td>\n",
              "      <td>1.170591</td>\n",
              "      <td>14.849290</td>\n",
              "      <td>7.643484</td>\n",
              "      <td>4898.803732</td>\n",
              "    </tr>\n",
              "    <tr>\n",
              "      <th>min</th>\n",
              "      <td>2.800000</td>\n",
              "      <td>21.000000</td>\n",
              "      <td>71.500000</td>\n",
              "      <td>3.000000</td>\n",
              "      <td>23.400000</td>\n",
              "      <td>7.400000</td>\n",
              "      <td>28000.000000</td>\n",
              "    </tr>\n",
              "    <tr>\n",
              "      <th>25%</th>\n",
              "      <td>14.700000</td>\n",
              "      <td>22.000000</td>\n",
              "      <td>76.400000</td>\n",
              "      <td>4.500000</td>\n",
              "      <td>41.600000</td>\n",
              "      <td>12.600000</td>\n",
              "      <td>31000.000000</td>\n",
              "    </tr>\n",
              "    <tr>\n",
              "      <th>50%</th>\n",
              "      <td>15.400000</td>\n",
              "      <td>27.500000</td>\n",
              "      <td>83.200000</td>\n",
              "      <td>4.900000</td>\n",
              "      <td>47.200000</td>\n",
              "      <td>27.000000</td>\n",
              "      <td>34541.000000</td>\n",
              "    </tr>\n",
              "    <tr>\n",
              "      <th>75%</th>\n",
              "      <td>24.900000</td>\n",
              "      <td>32.100000</td>\n",
              "      <td>96.900000</td>\n",
              "      <td>5.000000</td>\n",
              "      <td>62.200000</td>\n",
              "      <td>29.100000</td>\n",
              "      <td>39333.000000</td>\n",
              "    </tr>\n",
              "    <tr>\n",
              "      <th>max</th>\n",
              "      <td>29.200000</td>\n",
              "      <td>33.000000</td>\n",
              "      <td>122.000000</td>\n",
              "      <td>8.100000</td>\n",
              "      <td>123.000000</td>\n",
              "      <td>30.900000</td>\n",
              "      <td>46000.000000</td>\n",
              "    </tr>\n",
              "  </tbody>\n",
              "</table>\n",
              "</div>\n",
              "      <button class=\"colab-df-convert\" onclick=\"convertToInteractive('df-02b34bf6-f7ba-4ccb-a83d-8c90a7f83e37')\"\n",
              "              title=\"Convert this dataframe to an interactive table.\"\n",
              "              style=\"display:none;\">\n",
              "        \n",
              "  <svg xmlns=\"http://www.w3.org/2000/svg\" height=\"24px\"viewBox=\"0 0 24 24\"\n",
              "       width=\"24px\">\n",
              "    <path d=\"M0 0h24v24H0V0z\" fill=\"none\"/>\n",
              "    <path d=\"M18.56 5.44l.94 2.06.94-2.06 2.06-.94-2.06-.94-.94-2.06-.94 2.06-2.06.94zm-11 1L8.5 8.5l.94-2.06 2.06-.94-2.06-.94L8.5 2.5l-.94 2.06-2.06.94zm10 10l.94 2.06.94-2.06 2.06-.94-2.06-.94-.94-2.06-.94 2.06-2.06.94z\"/><path d=\"M17.41 7.96l-1.37-1.37c-.4-.4-.92-.59-1.43-.59-.52 0-1.04.2-1.43.59L10.3 9.45l-7.72 7.72c-.78.78-.78 2.05 0 2.83L4 21.41c.39.39.9.59 1.41.59.51 0 1.02-.2 1.41-.59l7.78-7.78 2.81-2.81c.8-.78.8-2.07 0-2.86zM5.41 20L4 18.59l7.72-7.72 1.47 1.35L5.41 20z\"/>\n",
              "  </svg>\n",
              "      </button>\n",
              "      \n",
              "  <style>\n",
              "    .colab-df-container {\n",
              "      display:flex;\n",
              "      flex-wrap:wrap;\n",
              "      gap: 12px;\n",
              "    }\n",
              "\n",
              "    .colab-df-convert {\n",
              "      background-color: #E8F0FE;\n",
              "      border: none;\n",
              "      border-radius: 50%;\n",
              "      cursor: pointer;\n",
              "      display: none;\n",
              "      fill: #1967D2;\n",
              "      height: 32px;\n",
              "      padding: 0 0 0 0;\n",
              "      width: 32px;\n",
              "    }\n",
              "\n",
              "    .colab-df-convert:hover {\n",
              "      background-color: #E2EBFA;\n",
              "      box-shadow: 0px 1px 2px rgba(60, 64, 67, 0.3), 0px 1px 3px 1px rgba(60, 64, 67, 0.15);\n",
              "      fill: #174EA6;\n",
              "    }\n",
              "\n",
              "    [theme=dark] .colab-df-convert {\n",
              "      background-color: #3B4455;\n",
              "      fill: #D2E3FC;\n",
              "    }\n",
              "\n",
              "    [theme=dark] .colab-df-convert:hover {\n",
              "      background-color: #434B5C;\n",
              "      box-shadow: 0px 1px 3px 1px rgba(0, 0, 0, 0.15);\n",
              "      filter: drop-shadow(0px 1px 2px rgba(0, 0, 0, 0.3));\n",
              "      fill: #FFFFFF;\n",
              "    }\n",
              "  </style>\n",
              "\n",
              "      <script>\n",
              "        const buttonEl =\n",
              "          document.querySelector('#df-02b34bf6-f7ba-4ccb-a83d-8c90a7f83e37 button.colab-df-convert');\n",
              "        buttonEl.style.display =\n",
              "          google.colab.kernel.accessAllowed ? 'block' : 'none';\n",
              "\n",
              "        async function convertToInteractive(key) {\n",
              "          const element = document.querySelector('#df-02b34bf6-f7ba-4ccb-a83d-8c90a7f83e37');\n",
              "          const dataTable =\n",
              "            await google.colab.kernel.invokeFunction('convertToInteractive',\n",
              "                                                     [key], {});\n",
              "          if (!dataTable) return;\n",
              "\n",
              "          const docLinkHtml = 'Like what you see? Visit the ' +\n",
              "            '<a target=\"_blank\" href=https://colab.research.google.com/notebooks/data_table.ipynb>data table notebook</a>'\n",
              "            + ' to learn more about interactive tables.';\n",
              "          element.innerHTML = '';\n",
              "          dataTable['output_type'] = 'display_data';\n",
              "          await google.colab.output.renderOutput(dataTable, element);\n",
              "          const docLink = document.createElement('div');\n",
              "          docLink.innerHTML = docLinkHtml;\n",
              "          element.appendChild(docLink);\n",
              "        }\n",
              "      </script>\n",
              "    </div>\n",
              "  </div>\n",
              "  "
            ]
          },
          "metadata": {},
          "execution_count": 9
        }
      ]
    },
    {
      "cell_type": "markdown",
      "source": [
        "## MENGISI DATA KOSONG DENGAN NAN"
      ],
      "metadata": {
        "id": "kEcapgODFpw3"
      }
    },
    {
      "cell_type": "code",
      "source": [
        "df.loc[df[\"datakecepatanangin\"] == 0.0, \"datakecepatanangin\"] = np.NAN\n",
        "df.loc[df[\"datasuhuudara\"] == 0.0, \"datasuhuudara\"] = np.NAN\n",
        "df.loc[df[\"datakelembabanudara\"] == 0.0, \"datakelembabanudara\"] = np.NAN\n",
        "df.loc[df[\"dataphtanah\"] == 0.0, \"dataphtanah\"] = np.NAN\n",
        "df.loc[df[\"datakelembabantanah\"] == 0.0, \"datakelembabantanah\"] = np.NAN\n",
        "df.loc[df[\"datasuhutanah\"] == 0.0, \"datasuhutanah\"] = np.NAN\n",
        "\n",
        "df.isnull().sum()[1:6]"
      ],
      "metadata": {
        "colab": {
          "base_uri": "https://localhost:8080/"
        },
        "id": "_ci5Og1p4j0-",
        "outputId": "cbd2fa7a-e4a7-412e-b01a-fe55f07eceba"
      },
      "execution_count": null,
      "outputs": [
        {
          "output_type": "execute_result",
          "data": {
            "text/plain": [
              "datakecepatanangin     35\n",
              "datasuhuudara          35\n",
              "datakelembabanudara    35\n",
              "dataphtanah            35\n",
              "datakelembabantanah    35\n",
              "dtype: int64"
            ]
          },
          "metadata": {},
          "execution_count": 10
        }
      ]
    },
    {
      "cell_type": "markdown",
      "source": [
        "## CEK LOKASI MISSING VALUE"
      ],
      "metadata": {
        "id": "CJ2xcfe8C0K4"
      }
    },
    {
      "cell_type": "code",
      "source": [
        "mno.matrix(df_fix, figsize = (20, 6))"
      ],
      "metadata": {
        "colab": {
          "base_uri": "https://localhost:8080/"
        },
        "id": "h5nFkaY046jA",
        "outputId": "27ca42ce-3569-4bb8-85eb-11b1a7daef3b"
      },
      "execution_count": null,
      "outputs": [
        {
          "output_type": "execute_result",
          "data": {
            "text/plain": [
              "<Axes: >"
            ]
          },
          "metadata": {},
          "execution_count": 11
        },
        {
          "output_type": "display_data",
          "data": {
            "text/plain": [
              "<Figure size 2000x600 with 2 Axes>"
            ],
            "image/png": "[encoded data removed]"
          },
          "metadata": {}
        }
      ]
    },
    {
      "cell_type": "markdown",
      "source": [
        "##BUAT ARRAY UNTUK KOLOM YANG TERDAPAT MISSING VALUE"
      ],
      "metadata": {
        "id": "_u1kuzmldT9R"
      }
    },
    {
      "cell_type": "code",
      "source": [
        "missing_columns = ['datakecepatanangin', 'datasuhuudara', 'datakelembabanudara', 'dataphtanah', 'datakelembabantanah', 'datasuhutanah']"
      ],
      "metadata": {
        "id": "Phl9ADCS4-gZ"
      },
      "execution_count": null,
      "outputs": []
    },
    {
      "cell_type": "markdown",
      "source": [
        "##BUAT FUNGSI RANDOM IMPUTASI"
      ],
      "metadata": {
        "id": "ocJF_a5EJyGz"
      }
    },
    {
      "cell_type": "code",
      "source": [
        "def random_imputation(df_fix, feature):\n",
        "\n",
        "    number_missing = df_fix[feature].isnull().sum()\n",
        "    observed_values = df_fix.loc[df_fix[feature].notnull(), feature]\n",
        "    df_fix.loc[df_fix[feature].isnull(), feature + '_imp'] = np.random.choice(observed_values, number_missing, replace = True)\n",
        "\n",
        "    return df_fix"
      ],
      "metadata": {
        "id": "oCFcdpU75OeR"
      },
      "execution_count": null,
      "outputs": []
    },
    {
      "cell_type": "code",
      "source": [
        "for feature in missing_columns:\n",
        "    df_fix[feature + '_imp'] = df_fix[feature]\n",
        "    df_fix = random_imputation(df_fix, feature)"
      ],
      "metadata": {
        "id": "TfzTeqW25XEj"
      },
      "execution_count": null,
      "outputs": []
    },
    {
      "cell_type": "markdown",
      "source": [
        "##MEMBUAT MODEL REGRESI UNTUK IMPUTASI DATA"
      ],
      "metadata": {
        "id": "58t0ldx86Pnp"
      }
    },
    {
      "cell_type": "code",
      "source": [
        "deter_data = pd.DataFrame(columns = [\"Det\" + name for name in missing_columns])\n",
        "\n",
        "for feature in missing_columns:\n",
        "\n",
        "    deter_data[\"Det\" + feature] = df_fix[feature + \"_imp\"]\n",
        "    parameters = list(set(df_fix.columns) - set(missing_columns) - {feature + '_imp'})\n",
        "\n",
        "    #Create a Linear Regression model to estimate the missing data\n",
        "    model = linear_model.LinearRegression()\n",
        "    model.fit(X = df_fix[parameters], y = df_fix[feature + '_imp'])\n",
        "\n",
        "    #observe that I preserve the index of the missing data from the original dataframe\n",
        "    deter_data.loc[df_fix[feature].isnull(), \"Det\" + feature] = model.predict(df_fix[parameters])[df_fix[feature].isnull()]"
      ],
      "metadata": {
        "id": "u6sY9p_E6YQx"
      },
      "execution_count": null,
      "outputs": []
    },
    {
      "cell_type": "markdown",
      "source": [
        "##MELIHAT NILAI INTERCEPT DAN SLOPE UNTUK PERSAMAAN REGRESI"
      ],
      "metadata": {
        "id": "WGaaiKzDLnbC"
      }
    },
    {
      "cell_type": "code",
      "source": [
        "slope = model.coef_[0]\n",
        "intercept = model.intercept_\n",
        "print('Slope:', slope)\n",
        "print('Intercept:', intercept)"
      ],
      "metadata": {
        "colab": {
          "base_uri": "https://localhost:8080/"
        },
        "id": "ZjB3ThawcA3h",
        "outputId": "462a18c0-17e1-4e9d-e76d-996752aafa29"
      },
      "execution_count": null,
      "outputs": [
        {
          "output_type": "stream",
          "name": "stdout",
          "text": [
            "Slope: 0.04871802464740734\n",
            "Intercept: 2.7439265988840056\n"
          ]
        }
      ]
    },
    {
      "cell_type": "markdown",
      "source": [
        "##CEK MISSING VALUE"
      ],
      "metadata": {
        "id": "7dgP9II_cYMd"
      }
    },
    {
      "cell_type": "code",
      "source": [
        "mno.matrix(deter_data, figsize = (20,5))"
      ],
      "metadata": {
        "colab": {
          "base_uri": "https://localhost:8080/",
          "height": 89
        },
        "id": "p9lIdsNa6hRj",
        "outputId": "8ba652de-7211-4b96-f77f-12c9264a0c94"
      },
      "execution_count": null,
      "outputs": [
        {
          "output_type": "execute_result",
          "data": {
            "text/plain": [
              "<Axes: >"
            ]
          },
          "metadata": {},
          "execution_count": 17
        },
        {
          "output_type": "display_data",
          "data": {
            "text/plain": [
              "<Figure size 2000x500 with 2 Axes>"
            ],
            "image/png": "[encoded data removed]"
          },
          "metadata": {}
        }
      ]
    },
    {
      "cell_type": "markdown",
      "source": [
        "##REVIEW DATASET"
      ],
      "metadata": {
        "id": "jw8lZl2SMBBc"
      }
    },
    {
      "cell_type": "code",
      "source": [
        "deter_data['Detdatakecepatanangin'][0:30]"
      ],
      "metadata": {
        "colab": {
          "base_uri": "https://localhost:8080/"
        },
        "id": "KIY-Kuf-7P8w",
        "outputId": "cd49978c-2292-4f36-fe47-229b35d66242"
      },
      "execution_count": null,
      "outputs": [
        {
          "output_type": "execute_result",
          "data": {
            "text/plain": [
              "tanggal\n",
              "2022-12-01    18.740120\n",
              "2022-12-02    21.406682\n",
              "2022-12-03    13.879146\n",
              "2022-12-04    15.854731\n",
              "2022-12-05    16.782835\n",
              "2022-12-06    22.233646\n",
              "2022-12-07    15.759415\n",
              "2022-12-08    15.361581\n",
              "2022-12-09    15.200000\n",
              "2022-12-10    15.400000\n",
              "2022-12-11    14.700000\n",
              "2022-12-12    15.600000\n",
              "2022-12-13    14.900000\n",
              "2022-12-14    15.000000\n",
              "2022-12-15    15.300000\n",
              "2022-12-16    15.100000\n",
              "2022-12-17    14.700000\n",
              "2022-12-18    15.500000\n",
              "2022-12-19    14.300000\n",
              "2022-12-20    14.900000\n",
              "2022-12-21    15.000000\n",
              "2022-12-22    15.300000\n",
              "2022-12-23    15.600000\n",
              "2022-12-24    15.400000\n",
              "2022-12-25    15.000000\n",
              "2022-12-26    15.978517\n",
              "2022-12-27    15.746709\n",
              "2022-12-28    14.059010\n",
              "2022-12-29    16.323898\n",
              "2022-12-30    22.000000\n",
              "Name: Detdatakecepatanangin, dtype: float64"
            ]
          },
          "metadata": {},
          "execution_count": 18
        }
      ]
    },
    {
      "cell_type": "markdown",
      "source": [
        "## MEMBUAT DATASET BARU DARI HASIL IMPUTASI"
      ],
      "metadata": {
        "id": "9hXPbXlZMIQy"
      }
    },
    {
      "cell_type": "code",
      "source": [
        "deter_data['hargabrebes'] = df_fix['hargabrebes ']\n",
        "deter_data.reset_index()"
      ],
      "metadata": {
        "colab": {
          "base_uri": "https://localhost:8080/",
          "height": 661
        },
        "id": "Vzf-gq9gUD7f",
        "outputId": "f5b183cb-6540-4dff-c04b-e769d0cbfe0a"
      },
      "execution_count": null,
      "outputs": [
        {
          "output_type": "execute_result",
          "data": {
            "text/plain": [
              "      tanggal  Detdatakecepatanangin  Detdatasuhuudara  \\\n",
              "0  2022-12-01              18.740120         22.745940   \n",
              "1  2022-12-02              21.406682         26.284144   \n",
              "2  2022-12-03              13.879146         29.816451   \n",
              "3  2022-12-04              15.854731         30.339540   \n",
              "4  2022-12-05              16.782835         28.044021   \n",
              "..        ...                    ...               ...   \n",
              "85 2023-02-24              14.970991         24.652207   \n",
              "86 2023-02-25              15.865973         26.511311   \n",
              "87 2023-02-26              16.125598         29.740513   \n",
              "88 2023-02-27              18.627337         27.773083   \n",
              "89 2023-02-28              14.656077         27.034802   \n",
              "\n",
              "    Detdatakelembabanudara  Detdataphtanah  Detdatakelembabantanah  \\\n",
              "0                93.692387        4.871289               58.141508   \n",
              "1                87.028115        6.305081               36.399551   \n",
              "2                83.335158        6.731456               57.886406   \n",
              "3                85.871815        5.189016               62.725977   \n",
              "4                84.717733        5.116879               60.516982   \n",
              "..                     ...             ...                     ...   \n",
              "85               88.908593        4.770953               57.498745   \n",
              "86               90.509983        4.429203               52.948302   \n",
              "87               78.875692        3.785480               48.219137   \n",
              "88               87.717134        5.139772               53.000245   \n",
              "89               80.611557        5.276102               55.228245   \n",
              "\n",
              "    Detdatasuhutanah  hargabrebes  \n",
              "0          18.271003        30000  \n",
              "1          23.351729        30000  \n",
              "2          24.578336        31000  \n",
              "3          20.008621        31000  \n",
              "4          19.468904        31000  \n",
              "..               ...          ...  \n",
              "85         18.568794        35833  \n",
              "86         21.443437        35833  \n",
              "87         30.440813        35833  \n",
              "88         23.266161        37666  \n",
              "89         24.767520        35000  \n",
              "\n",
              "[90 rows x 8 columns]"
            ],
            "text/html": [
              "\n",
              "  <div id=\"df-8600ba2e-d33b-4730-bd26-336f7dfbabb2\">\n",
              "    <div class=\"colab-df-container\">\n",
              "      <div>\n",
              "<style scoped>\n",
              "    .dataframe tbody tr th:only-of-type {\n",
              "        vertical-align: middle;\n",
              "    }\n",
              "\n",
              "    .dataframe tbody tr th {\n",
              "        vertical-align: top;\n",
              "    }\n",
              "\n",
              "    .dataframe thead th {\n",
              "        text-align: right;\n",
              "    }\n",
              "</style>\n",
              "<table border=\"1\" class=\"dataframe\">\n",
              "  <thead>\n",
              "    <tr style=\"text-align: right;\">\n",
              "      <th></th>\n",
              "      <th>tanggal</th>\n",
              "      <th>Detdatakecepatanangin</th>\n",
              "      <th>Detdatasuhuudara</th>\n",
              "      <th>Detdatakelembabanudara</th>\n",
              "      <th>Detdataphtanah</th>\n",
              "      <th>Detdatakelembabantanah</th>\n",
              "      <th>Detdatasuhutanah</th>\n",
              "      <th>hargabrebes</th>\n",
              "    </tr>\n",
              "  </thead>\n",
              "  <tbody>\n",
              "    <tr>\n",
              "      <th>0</th>\n",
              "      <td>2022-12-01</td>\n",
              "      <td>18.740120</td>\n",
              "      <td>22.745940</td>\n",
              "      <td>93.692387</td>\n",
              "      <td>4.871289</td>\n",
              "      <td>58.141508</td>\n",
              "      <td>18.271003</td>\n",
              "      <td>30000</td>\n",
              "    </tr>\n",
              "    <tr>\n",
              "      <th>1</th>\n",
              "      <td>2022-12-02</td>\n",
              "      <td>21.406682</td>\n",
              "      <td>26.284144</td>\n",
              "      <td>87.028115</td>\n",
              "      <td>6.305081</td>\n",
              "      <td>36.399551</td>\n",
              "      <td>23.351729</td>\n",
              "      <td>30000</td>\n",
              "    </tr>\n",
              "    <tr>\n",
              "      <th>2</th>\n",
              "      <td>2022-12-03</td>\n",
              "      <td>13.879146</td>\n",
              "      <td>29.816451</td>\n",
              "      <td>83.335158</td>\n",
              "      <td>6.731456</td>\n",
              "      <td>57.886406</td>\n",
              "      <td>24.578336</td>\n",
              "      <td>31000</td>\n",
              "    </tr>\n",
              "    <tr>\n",
              "      <th>3</th>\n",
              "      <td>2022-12-04</td>\n",
              "      <td>15.854731</td>\n",
              "      <td>30.339540</td>\n",
              "      <td>85.871815</td>\n",
              "      <td>5.189016</td>\n",
              "      <td>62.725977</td>\n",
              "      <td>20.008621</td>\n",
              "      <td>31000</td>\n",
              "    </tr>\n",
              "    <tr>\n",
              "      <th>4</th>\n",
              "      <td>2022-12-05</td>\n",
              "      <td>16.782835</td>\n",
              "      <td>28.044021</td>\n",
              "      <td>84.717733</td>\n",
              "      <td>5.116879</td>\n",
              "      <td>60.516982</td>\n",
              "      <td>19.468904</td>\n",
              "      <td>31000</td>\n",
              "    </tr>\n",
              "    <tr>\n",
              "      <th>...</th>\n",
              "      <td>...</td>\n",
              "      <td>...</td>\n",
              "      <td>...</td>\n",
              "      <td>...</td>\n",
              "      <td>...</td>\n",
              "      <td>...</td>\n",
              "      <td>...</td>\n",
              "      <td>...</td>\n",
              "    </tr>\n",
              "    <tr>\n",
              "      <th>85</th>\n",
              "      <td>2023-02-24</td>\n",
              "      <td>14.970991</td>\n",
              "      <td>24.652207</td>\n",
              "      <td>88.908593</td>\n",
              "      <td>4.770953</td>\n",
              "      <td>57.498745</td>\n",
              "      <td>18.568794</td>\n",
              "      <td>35833</td>\n",
              "    </tr>\n",
              "    <tr>\n",
              "      <th>86</th>\n",
              "      <td>2023-02-25</td>\n",
              "      <td>15.865973</td>\n",
              "      <td>26.511311</td>\n",
              "      <td>90.509983</td>\n",
              "      <td>4.429203</td>\n",
              "      <td>52.948302</td>\n",
              "      <td>21.443437</td>\n",
              "      <td>35833</td>\n",
              "    </tr>\n",
              "    <tr>\n",
              "      <th>87</th>\n",
              "      <td>2023-02-26</td>\n",
              "      <td>16.125598</td>\n",
              "      <td>29.740513</td>\n",
              "      <td>78.875692</td>\n",
              "      <td>3.785480</td>\n",
              "      <td>48.219137</td>\n",
              "      <td>30.440813</td>\n",
              "      <td>35833</td>\n",
              "    </tr>\n",
              "    <tr>\n",
              "      <th>88</th>\n",
              "      <td>2023-02-27</td>\n",
              "      <td>18.627337</td>\n",
              "      <td>27.773083</td>\n",
              "      <td>87.717134</td>\n",
              "      <td>5.139772</td>\n",
              "      <td>53.000245</td>\n",
              "      <td>23.266161</td>\n",
              "      <td>37666</td>\n",
              "    </tr>\n",
              "    <tr>\n",
              "      <th>89</th>\n",
              "      <td>2023-02-28</td>\n",
              "      <td>14.656077</td>\n",
              "      <td>27.034802</td>\n",
              "      <td>80.611557</td>\n",
              "      <td>5.276102</td>\n",
              "      <td>55.228245</td>\n",
              "      <td>24.767520</td>\n",
              "      <td>35000</td>\n",
              "    </tr>\n",
              "  </tbody>\n",
              "</table>\n",
              "<p>90 rows × 8 columns</p>\n",
              "</div>\n",
              "      <button class=\"colab-df-convert\" onclick=\"convertToInteractive('df-8600ba2e-d33b-4730-bd26-336f7dfbabb2')\"\n",
              "              title=\"Convert this dataframe to an interactive table.\"\n",
              "              style=\"display:none;\">\n",
              "        \n",
              "  <svg xmlns=\"http://www.w3.org/2000/svg\" height=\"24px\"viewBox=\"0 0 24 24\"\n",
              "       width=\"24px\">\n",
              "    <path d=\"M0 0h24v24H0V0z\" fill=\"none\"/>\n",
              "    <path d=\"M18.56 5.44l.94 2.06.94-2.06 2.06-.94-2.06-.94-.94-2.06-.94 2.06-2.06.94zm-11 1L8.5 8.5l.94-2.06 2.06-.94-2.06-.94L8.5 2.5l-.94 2.06-2.06.94zm10 10l.94 2.06.94-2.06 2.06-.94-2.06-.94-.94-2.06-.94 2.06-2.06.94z\"/><path d=\"M17.41 7.96l-1.37-1.37c-.4-.4-.92-.59-1.43-.59-.52 0-1.04.2-1.43.59L10.3 9.45l-7.72 7.72c-.78.78-.78 2.05 0 2.83L4 21.41c.39.39.9.59 1.41.59.51 0 1.02-.2 1.41-.59l7.78-7.78 2.81-2.81c.8-.78.8-2.07 0-2.86zM5.41 20L4 18.59l7.72-7.72 1.47 1.35L5.41 20z\"/>\n",
              "  </svg>\n",
              "      </button>\n",
              "      \n",
              "  <style>\n",
              "    .colab-df-container {\n",
              "      display:flex;\n",
              "      flex-wrap:wrap;\n",
              "      gap: 12px;\n",
              "    }\n",
              "\n",
              "    .colab-df-convert {\n",
              "      background-color: #E8F0FE;\n",
              "      border: none;\n",
              "      border-radius: 50%;\n",
              "      cursor: pointer;\n",
              "      display: none;\n",
              "      fill: #1967D2;\n",
              "      height: 32px;\n",
              "      padding: 0 0 0 0;\n",
              "      width: 32px;\n",
              "    }\n",
              "\n",
              "    .colab-df-convert:hover {\n",
              "      background-color: #E2EBFA;\n",
              "      box-shadow: 0px 1px 2px rgba(60, 64, 67, 0.3), 0px 1px 3px 1px rgba(60, 64, 67, 0.15);\n",
              "      fill: #174EA6;\n",
              "    }\n",
              "\n",
              "    [theme=dark] .colab-df-convert {\n",
              "      background-color: #3B4455;\n",
              "      fill: #D2E3FC;\n",
              "    }\n",
              "\n",
              "    [theme=dark] .colab-df-convert:hover {\n",
              "      background-color: #434B5C;\n",
              "      box-shadow: 0px 1px 3px 1px rgba(0, 0, 0, 0.15);\n",
              "      filter: drop-shadow(0px 1px 2px rgba(0, 0, 0, 0.3));\n",
              "      fill: #FFFFFF;\n",
              "    }\n",
              "  </style>\n",
              "\n",
              "      <script>\n",
              "        const buttonEl =\n",
              "          document.querySelector('#df-8600ba2e-d33b-4730-bd26-336f7dfbabb2 button.colab-df-convert');\n",
              "        buttonEl.style.display =\n",
              "          google.colab.kernel.accessAllowed ? 'block' : 'none';\n",
              "\n",
              "        async function convertToInteractive(key) {\n",
              "          const element = document.querySelector('#df-8600ba2e-d33b-4730-bd26-336f7dfbabb2');\n",
              "          const dataTable =\n",
              "            await google.colab.kernel.invokeFunction('convertToInteractive',\n",
              "                                                     [key], {});\n",
              "          if (!dataTable) return;\n",
              "\n",
              "          const docLinkHtml = 'Like what you see? Visit the ' +\n",
              "            '<a target=\"_blank\" href=https://colab.research.google.com/notebooks/data_table.ipynb>data table notebook</a>'\n",
              "            + ' to learn more about interactive tables.';\n",
              "          element.innerHTML = '';\n",
              "          dataTable['output_type'] = 'display_data';\n",
              "          await google.colab.output.renderOutput(dataTable, element);\n",
              "          const docLink = document.createElement('div');\n",
              "          docLink.innerHTML = docLinkHtml;\n",
              "          element.appendChild(docLink);\n",
              "        }\n",
              "      </script>\n",
              "    </div>\n",
              "  </div>\n",
              "  "
            ]
          },
          "metadata": {},
          "execution_count": 19
        }
      ]
    },
    {
      "cell_type": "markdown",
      "source": [
        "##DOWNLOAD HASIL DALAM BENTUK EXCEL"
      ],
      "metadata": {
        "id": "C-SSOdL4De5v"
      }
    },
    {
      "cell_type": "code",
      "source": [
        "#download file excel\n",
        "deter_data.to_excel(\"iot_brebes_regresi.xlsx\", index=True)\n",
        "\n",
        "#library untuk download file\n",
        "from google.colab import files\n",
        "files.download(\"iot_brebes_regresi.xlsx\")"
      ],
      "metadata": {
        "colab": {
          "base_uri": "https://localhost:8080/",
          "height": 17
        },
        "id": "-eaggZZcDAJy",
        "outputId": "5a04a5ad-8f23-4c27-f31c-ef0224786e94"
      },
      "execution_count": null,
      "outputs": [
        {
          "output_type": "display_data",
          "data": {
            "text/plain": [
              "<IPython.core.display.Javascript object>"
            ],
            "application/javascript": [
              "\n",
              "    async function download(id, filename, size) {\n",
              "      if (!google.colab.kernel.accessAllowed) {\n",
              "        return;\n",
              "      }\n",
              "      const div = document.createElement('div');\n",
              "      const label = document.createElement('label');\n",
              "      label.textContent = `Downloading \"${filename}\": `;\n",
              "      div.appendChild(label);\n",
              "      const progress = document.createElement('progress');\n",
              "      progress.max = size;\n",
              "      div.appendChild(progress);\n",
              "      document.body.appendChild(div);\n",
              "\n",
              "      const buffers = [];\n",
              "      let downloaded = 0;\n",
              "\n",
              "      const channel = await google.colab.kernel.comms.open(id);\n",
              "      // Send a message to notify the kernel that we're ready.\n",
              "      channel.send({})\n",
              "\n",
              "      for await (const message of channel.messages) {\n",
              "        // Send a message to notify the kernel that we're ready.\n",
              "        channel.send({})\n",
              "        if (message.buffers) {\n",
              "          for (const buffer of message.buffers) {\n",
              "            buffers.push(buffer);\n",
              "            downloaded += buffer.byteLength;\n",
              "            progress.value = downloaded;\n",
              "          }\n",
              "        }\n",
              "      }\n",
              "      const blob = new Blob(buffers, {type: 'application/binary'});\n",
              "      const a = document.createElement('a');\n",
              "      a.href = window.URL.createObjectURL(blob);\n",
              "      a.download = filename;\n",
              "      div.appendChild(a);\n",
              "      a.click();\n",
              "      div.remove();\n",
              "    }\n",
              "  "
            ]
          },
          "metadata": {}
        },
        {
          "output_type": "display_data",
          "data": {
            "text/plain": [
              "<IPython.core.display.Javascript object>"
            ],
            "application/javascript": [
              "download(\"download_2428dc8c-0a98-401d-80b6-f66f8b5b641c\", \"iot_brebes_regresi.xlsx\", 10773)"
            ]
          },
          "metadata": {}
        }
      ]
    }
  ]
}