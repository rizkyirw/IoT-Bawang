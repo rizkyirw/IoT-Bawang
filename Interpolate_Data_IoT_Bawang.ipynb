{
  "nbformat": 4,
  "nbformat_minor": 0,
  "metadata": {
    "colab": {
      "provenance": []
    },
    "kernelspec": {
      "name": "python3",
      "display_name": "Python 3"
    },
    "language_info": {
      "name": "python"
    }
  },
  "cells": [
    {
      "cell_type": "markdown",
      "source": [
        "###Interpolasi adalah teknik penemuan nilai tengah diantara dua nilai yang diketahui. Terdapat nilai atas dan nilai bawah yang digunakan untuk memprediksi nilai-nilai tengah yang hilang."
      ],
      "metadata": {
        "id": "Xy_hffKQWLfA"
      }
    },
    {
      "cell_type": "markdown",
      "source": [
        "##IMPORT LIBRARY DAN DATA"
      ],
      "metadata": {
        "id": "9oUjrkSR-ckm"
      }
    },
    {
      "cell_type": "code",
      "source": [
        "import numpy as np\n",
        "import matplotlib.pyplot as plt\n",
        "import pandas as pd\n",
        "import seaborn as sns"
      ],
      "metadata": {
        "id": "0_y7mA1Ka2jE"
      },
      "execution_count": null,
      "outputs": []
    },
    {
      "cell_type": "code",
      "source": [
        "import warnings\n",
        "warnings.filterwarnings('ignore')"
      ],
      "metadata": {
        "id": "mdkLLPEwa6mi"
      },
      "execution_count": null,
      "outputs": []
    },
    {
      "cell_type": "code",
      "source": [
        "sheet_id = \"10usp8jy0WUlMdnZq0bpfNZJeBWIr3TFjznoj1YxUL5g\"\n",
        "sheet_name = \"Data-IOT-Interpolasi\"\n",
        "url = f\"https://docs.google.com/spreadsheets/d/{sheet_id}/gviz/tq?tqx=out:csv&sheet={sheet_name}\""
      ],
      "metadata": {
        "id": "8t9l7-noaDpz"
      },
      "execution_count": null,
      "outputs": []
    },
    {
      "cell_type": "code",
      "source": [
        "df = pd.read_csv(url)"
      ],
      "metadata": {
        "id": "EYkkOeXkficH"
      },
      "execution_count": null,
      "outputs": []
    },
    {
      "cell_type": "markdown",
      "source": [
        "##MEREVIEW DATA"
      ],
      "metadata": {
        "id": "FL-dzfzV-lJV"
      }
    },
    {
      "cell_type": "code",
      "source": [
        "df"
      ],
      "metadata": {
        "colab": {
          "base_uri": "https://localhost:8080/",
          "height": 522
        },
        "id": "ouRM5v--hWw_",
        "outputId": "164dd920-eef9-433f-a96d-172d7e440e01"
      },
      "execution_count": null,
      "outputs": [
        {
          "output_type": "execute_result",
          "data": {
            "text/plain": [
              "      tanggal  datakecepatanangin  datasuhuudara  datakelembabanudara  \\\n",
              "0   12/1/2022                 NaN            NaN                  NaN   \n",
              "1   12/2/2022                 NaN            NaN                  NaN   \n",
              "2   12/3/2022                 NaN            NaN                  NaN   \n",
              "3   12/4/2022                 NaN            NaN                  NaN   \n",
              "4   12/5/2022                 NaN            NaN                  NaN   \n",
              "..        ...                 ...            ...                  ...   \n",
              "85  2/24/2023                 NaN            NaN                  NaN   \n",
              "86  2/25/2023                 NaN            NaN                  NaN   \n",
              "87  2/26/2023                 NaN            NaN                  NaN   \n",
              "88  2/27/2023                 NaN            NaN                  NaN   \n",
              "89  2/28/2023                 NaN            NaN                  NaN   \n",
              "\n",
              "    dataphtanah  datakelembabantanah  datasuhutanah  Harga Bawang Brebes   \n",
              "0           NaN                  NaN            NaN                 30000  \n",
              "1           NaN                  NaN            NaN                 30000  \n",
              "2           NaN                  NaN            NaN                 31000  \n",
              "3           NaN                  NaN            NaN                 31000  \n",
              "4           NaN                  NaN            NaN                 31000  \n",
              "..          ...                  ...            ...                   ...  \n",
              "85          NaN                  NaN            NaN                 35833  \n",
              "86          NaN                  NaN            NaN                 35833  \n",
              "87          NaN                  NaN            NaN                 35833  \n",
              "88          NaN                  NaN            NaN                 37666  \n",
              "89          NaN                  NaN            NaN                 35000  \n",
              "\n",
              "[90 rows x 8 columns]"
            ],
            "text/html": [
              "\n",
              "  <div id=\"df-190c5b8a-b357-4b5f-80f4-fa38161a6131\">\n",
              "    <div class=\"colab-df-container\">\n",
              "      <div>\n",
              "<style scoped>\n",
              "    .dataframe tbody tr th:only-of-type {\n",
              "        vertical-align: middle;\n",
              "    }\n",
              "\n",
              "    .dataframe tbody tr th {\n",
              "        vertical-align: top;\n",
              "    }\n",
              "\n",
              "    .dataframe thead th {\n",
              "        text-align: right;\n",
              "    }\n",
              "</style>\n",
              "<table border=\"1\" class=\"dataframe\">\n",
              "  <thead>\n",
              "    <tr style=\"text-align: right;\">\n",
              "      <th></th>\n",
              "      <th>tanggal</th>\n",
              "      <th>datakecepatanangin</th>\n",
              "      <th>datasuhuudara</th>\n",
              "      <th>datakelembabanudara</th>\n",
              "      <th>dataphtanah</th>\n",
              "      <th>datakelembabantanah</th>\n",
              "      <th>datasuhutanah</th>\n",
              "      <th>Harga Bawang Brebes</th>\n",
              "    </tr>\n",
              "  </thead>\n",
              "  <tbody>\n",
              "    <tr>\n",
              "      <th>0</th>\n",
              "      <td>12/1/2022</td>\n",
              "      <td>NaN</td>\n",
              "      <td>NaN</td>\n",
              "      <td>NaN</td>\n",
              "      <td>NaN</td>\n",
              "      <td>NaN</td>\n",
              "      <td>NaN</td>\n",
              "      <td>30000</td>\n",
              "    </tr>\n",
              "    <tr>\n",
              "      <th>1</th>\n",
              "      <td>12/2/2022</td>\n",
              "      <td>NaN</td>\n",
              "      <td>NaN</td>\n",
              "      <td>NaN</td>\n",
              "      <td>NaN</td>\n",
              "      <td>NaN</td>\n",
              "      <td>NaN</td>\n",
              "      <td>30000</td>\n",
              "    </tr>\n",
              "    <tr>\n",
              "      <th>2</th>\n",
              "      <td>12/3/2022</td>\n",
              "      <td>NaN</td>\n",
              "      <td>NaN</td>\n",
              "      <td>NaN</td>\n",
              "      <td>NaN</td>\n",
              "      <td>NaN</td>\n",
              "      <td>NaN</td>\n",
              "      <td>31000</td>\n",
              "    </tr>\n",
              "    <tr>\n",
              "      <th>3</th>\n",
              "      <td>12/4/2022</td>\n",
              "      <td>NaN</td>\n",
              "      <td>NaN</td>\n",
              "      <td>NaN</td>\n",
              "      <td>NaN</td>\n",
              "      <td>NaN</td>\n",
              "      <td>NaN</td>\n",
              "      <td>31000</td>\n",
              "    </tr>\n",
              "    <tr>\n",
              "      <th>4</th>\n",
              "      <td>12/5/2022</td>\n",
              "      <td>NaN</td>\n",
              "      <td>NaN</td>\n",
              "      <td>NaN</td>\n",
              "      <td>NaN</td>\n",
              "      <td>NaN</td>\n",
              "      <td>NaN</td>\n",
              "      <td>31000</td>\n",
              "    </tr>\n",
              "    <tr>\n",
              "      <th>...</th>\n",
              "      <td>...</td>\n",
              "      <td>...</td>\n",
              "      <td>...</td>\n",
              "      <td>...</td>\n",
              "      <td>...</td>\n",
              "      <td>...</td>\n",
              "      <td>...</td>\n",
              "      <td>...</td>\n",
              "    </tr>\n",
              "    <tr>\n",
              "      <th>85</th>\n",
              "      <td>2/24/2023</td>\n",
              "      <td>NaN</td>\n",
              "      <td>NaN</td>\n",
              "      <td>NaN</td>\n",
              "      <td>NaN</td>\n",
              "      <td>NaN</td>\n",
              "      <td>NaN</td>\n",
              "      <td>35833</td>\n",
              "    </tr>\n",
              "    <tr>\n",
              "      <th>86</th>\n",
              "      <td>2/25/2023</td>\n",
              "      <td>NaN</td>\n",
              "      <td>NaN</td>\n",
              "      <td>NaN</td>\n",
              "      <td>NaN</td>\n",
              "      <td>NaN</td>\n",
              "      <td>NaN</td>\n",
              "      <td>35833</td>\n",
              "    </tr>\n",
              "    <tr>\n",
              "      <th>87</th>\n",
              "      <td>2/26/2023</td>\n",
              "      <td>NaN</td>\n",
              "      <td>NaN</td>\n",
              "      <td>NaN</td>\n",
              "      <td>NaN</td>\n",
              "      <td>NaN</td>\n",
              "      <td>NaN</td>\n",
              "      <td>35833</td>\n",
              "    </tr>\n",
              "    <tr>\n",
              "      <th>88</th>\n",
              "      <td>2/27/2023</td>\n",
              "      <td>NaN</td>\n",
              "      <td>NaN</td>\n",
              "      <td>NaN</td>\n",
              "      <td>NaN</td>\n",
              "      <td>NaN</td>\n",
              "      <td>NaN</td>\n",
              "      <td>37666</td>\n",
              "    </tr>\n",
              "    <tr>\n",
              "      <th>89</th>\n",
              "      <td>2/28/2023</td>\n",
              "      <td>NaN</td>\n",
              "      <td>NaN</td>\n",
              "      <td>NaN</td>\n",
              "      <td>NaN</td>\n",
              "      <td>NaN</td>\n",
              "      <td>NaN</td>\n",
              "      <td>35000</td>\n",
              "    </tr>\n",
              "  </tbody>\n",
              "</table>\n",
              "<p>90 rows × 8 columns</p>\n",
              "</div>\n",
              "      <button class=\"colab-df-convert\" onclick=\"convertToInteractive('df-190c5b8a-b357-4b5f-80f4-fa38161a6131')\"\n",
              "              title=\"Convert this dataframe to an interactive table.\"\n",
              "              style=\"display:none;\">\n",
              "        \n",
              "  <svg xmlns=\"http://www.w3.org/2000/svg\" height=\"24px\"viewBox=\"0 0 24 24\"\n",
              "       width=\"24px\">\n",
              "    <path d=\"M0 0h24v24H0V0z\" fill=\"none\"/>\n",
              "    <path d=\"M18.56 5.44l.94 2.06.94-2.06 2.06-.94-2.06-.94-.94-2.06-.94 2.06-2.06.94zm-11 1L8.5 8.5l.94-2.06 2.06-.94-2.06-.94L8.5 2.5l-.94 2.06-2.06.94zm10 10l.94 2.06.94-2.06 2.06-.94-2.06-.94-.94-2.06-.94 2.06-2.06.94z\"/><path d=\"M17.41 7.96l-1.37-1.37c-.4-.4-.92-.59-1.43-.59-.52 0-1.04.2-1.43.59L10.3 9.45l-7.72 7.72c-.78.78-.78 2.05 0 2.83L4 21.41c.39.39.9.59 1.41.59.51 0 1.02-.2 1.41-.59l7.78-7.78 2.81-2.81c.8-.78.8-2.07 0-2.86zM5.41 20L4 18.59l7.72-7.72 1.47 1.35L5.41 20z\"/>\n",
              "  </svg>\n",
              "      </button>\n",
              "      \n",
              "  <style>\n",
              "    .colab-df-container {\n",
              "      display:flex;\n",
              "      flex-wrap:wrap;\n",
              "      gap: 12px;\n",
              "    }\n",
              "\n",
              "    .colab-df-convert {\n",
              "      background-color: #E8F0FE;\n",
              "      border: none;\n",
              "      border-radius: 50%;\n",
              "      cursor: pointer;\n",
              "      display: none;\n",
              "      fill: #1967D2;\n",
              "      height: 32px;\n",
              "      padding: 0 0 0 0;\n",
              "      width: 32px;\n",
              "    }\n",
              "\n",
              "    .colab-df-convert:hover {\n",
              "      background-color: #E2EBFA;\n",
              "      box-shadow: 0px 1px 2px rgba(60, 64, 67, 0.3), 0px 1px 3px 1px rgba(60, 64, 67, 0.15);\n",
              "      fill: #174EA6;\n",
              "    }\n",
              "\n",
              "    [theme=dark] .colab-df-convert {\n",
              "      background-color: #3B4455;\n",
              "      fill: #D2E3FC;\n",
              "    }\n",
              "\n",
              "    [theme=dark] .colab-df-convert:hover {\n",
              "      background-color: #434B5C;\n",
              "      box-shadow: 0px 1px 3px 1px rgba(0, 0, 0, 0.15);\n",
              "      filter: drop-shadow(0px 1px 2px rgba(0, 0, 0, 0.3));\n",
              "      fill: #FFFFFF;\n",
              "    }\n",
              "  </style>\n",
              "\n",
              "      <script>\n",
              "        const buttonEl =\n",
              "          document.querySelector('#df-190c5b8a-b357-4b5f-80f4-fa38161a6131 button.colab-df-convert');\n",
              "        buttonEl.style.display =\n",
              "          google.colab.kernel.accessAllowed ? 'block' : 'none';\n",
              "\n",
              "        async function convertToInteractive(key) {\n",
              "          const element = document.querySelector('#df-190c5b8a-b357-4b5f-80f4-fa38161a6131');\n",
              "          const dataTable =\n",
              "            await google.colab.kernel.invokeFunction('convertToInteractive',\n",
              "                                                     [key], {});\n",
              "          if (!dataTable) return;\n",
              "\n",
              "          const docLinkHtml = 'Like what you see? Visit the ' +\n",
              "            '<a target=\"_blank\" href=https://colab.research.google.com/notebooks/data_table.ipynb>data table notebook</a>'\n",
              "            + ' to learn more about interactive tables.';\n",
              "          element.innerHTML = '';\n",
              "          dataTable['output_type'] = 'display_data';\n",
              "          await google.colab.output.renderOutput(dataTable, element);\n",
              "          const docLink = document.createElement('div');\n",
              "          docLink.innerHTML = docLinkHtml;\n",
              "          element.appendChild(docLink);\n",
              "        }\n",
              "      </script>\n",
              "    </div>\n",
              "  </div>\n",
              "  "
            ]
          },
          "metadata": {},
          "execution_count": 5
        }
      ]
    },
    {
      "cell_type": "code",
      "source": [
        "df.info()"
      ],
      "metadata": {
        "colab": {
          "base_uri": "https://localhost:8080/"
        },
        "id": "G02tjJqsszve",
        "outputId": "317ec807-c171-4da2-bce2-b48d19e39722"
      },
      "execution_count": null,
      "outputs": [
        {
          "output_type": "stream",
          "name": "stdout",
          "text": [
            "<class 'pandas.core.frame.DataFrame'>\n",
            "RangeIndex: 90 entries, 0 to 89\n",
            "Data columns (total 8 columns):\n",
            " #   Column                Non-Null Count  Dtype  \n",
            "---  ------                --------------  -----  \n",
            " 0   tanggal               90 non-null     object \n",
            " 1   datakecepatanangin    55 non-null     float64\n",
            " 2   datasuhuudara         55 non-null     float64\n",
            " 3   datakelembabanudara   55 non-null     float64\n",
            " 4   dataphtanah           55 non-null     float64\n",
            " 5   datakelembabantanah   55 non-null     float64\n",
            " 6   datasuhutanah         55 non-null     float64\n",
            " 7   Harga Bawang Brebes   90 non-null     int64  \n",
            "dtypes: float64(6), int64(1), object(1)\n",
            "memory usage: 5.8+ KB\n"
          ]
        }
      ]
    },
    {
      "cell_type": "markdown",
      "source": [
        "##MENYALIN DATA DAN MENGUBAH DTYPE TANGGAL DARI OBJECT MENJADI DATETIME"
      ],
      "metadata": {
        "id": "il2Qw1gq-q7e"
      }
    },
    {
      "cell_type": "code",
      "source": [
        "df_fix = df.copy()\n",
        "df_fix[\"tanggal\"] = pd.to_datetime(df_fix[\"tanggal\"], format='%m/%d/%Y')"
      ],
      "metadata": {
        "id": "0QQupXPwbl_C"
      },
      "execution_count": null,
      "outputs": []
    },
    {
      "cell_type": "code",
      "source": [
        "df_fix.info()"
      ],
      "metadata": {
        "colab": {
          "base_uri": "https://localhost:8080/"
        },
        "id": "l3ZdGa04b9a6",
        "outputId": "6814ce52-152e-4052-a385-a4c666861d18"
      },
      "execution_count": null,
      "outputs": [
        {
          "output_type": "stream",
          "name": "stdout",
          "text": [
            "<class 'pandas.core.frame.DataFrame'>\n",
            "RangeIndex: 90 entries, 0 to 89\n",
            "Data columns (total 8 columns):\n",
            " #   Column                Non-Null Count  Dtype         \n",
            "---  ------                --------------  -----         \n",
            " 0   tanggal               90 non-null     datetime64[ns]\n",
            " 1   datakecepatanangin    55 non-null     float64       \n",
            " 2   datasuhuudara         55 non-null     float64       \n",
            " 3   datakelembabanudara   55 non-null     float64       \n",
            " 4   dataphtanah           55 non-null     float64       \n",
            " 5   datakelembabantanah   55 non-null     float64       \n",
            " 6   datasuhutanah         55 non-null     float64       \n",
            " 7   Harga Bawang Brebes   90 non-null     int64         \n",
            "dtypes: datetime64[ns](1), float64(6), int64(1)\n",
            "memory usage: 5.8 KB\n"
          ]
        }
      ]
    },
    {
      "cell_type": "markdown",
      "source": [
        "##MELIHAT KORELASI ANTAR KOLOM PADA DATASET"
      ],
      "metadata": {
        "id": "bhDb5NkT-3oG"
      }
    },
    {
      "cell_type": "code",
      "source": [
        "import matplotlib.pyplot as plt\n",
        "import seaborn as sns\n",
        "\n",
        "plt.figure(figsize=(15, 10))\n",
        "sns.heatmap(df.corr(), annot=True,cmap='coolwarm')"
      ],
      "metadata": {
        "colab": {
          "base_uri": "https://localhost:8080/",
          "height": 788
        },
        "id": "5ey1_ddZhbLl",
        "outputId": "72edd569-8973-4a56-8646-f2d9b4f48bff"
      },
      "execution_count": null,
      "outputs": [
        {
          "output_type": "execute_result",
          "data": {
            "text/plain": [
              "<Axes: >"
            ]
          },
          "metadata": {},
          "execution_count": 9
        },
        {
          "output_type": "display_data",
          "data": {
            "text/plain": [
              "<Figure size 1500x1000 with 2 Axes>"
            ],
            "image/png": "[encoded data removed]"
          },
          "metadata": {}
        }
      ]
    },
    {
      "cell_type": "markdown",
      "source": [
        "##MENGISI DATA KOSONG MENGGUNAKAN INTERPOLASI"
      ],
      "metadata": {
        "id": "WxUKnAmFoIyb"
      }
    },
    {
      "cell_type": "code",
      "source": [
        "#Set 'Date' Column to index\n",
        "df_fix = df_fix.set_index('tanggal')"
      ],
      "metadata": {
        "id": "qtowh3w5IerZ"
      },
      "execution_count": null,
      "outputs": []
    },
    {
      "cell_type": "code",
      "source": [
        "df_fix['datakecepatanangin'][0:90]"
      ],
      "metadata": {
        "colab": {
          "base_uri": "https://localhost:8080/"
        },
        "id": "7g6DGF-x_JIN",
        "outputId": "d0abca9d-71b8-45ae-e4ba-d731e3895708"
      },
      "execution_count": null,
      "outputs": [
        {
          "output_type": "execute_result",
          "data": {
            "text/plain": [
              "tanggal\n",
              "2022-12-01   NaN\n",
              "2022-12-02   NaN\n",
              "2022-12-03   NaN\n",
              "2022-12-04   NaN\n",
              "2022-12-05   NaN\n",
              "              ..\n",
              "2023-02-24   NaN\n",
              "2023-02-25   NaN\n",
              "2023-02-26   NaN\n",
              "2023-02-27   NaN\n",
              "2023-02-28   NaN\n",
              "Name: datakecepatanangin, Length: 90, dtype: float64"
            ]
          },
          "metadata": {},
          "execution_count": 11
        }
      ]
    },
    {
      "cell_type": "code",
      "source": [
        "# Interpolate using the time series method\n",
        "df_fix.interpolate(limit_direction='both',method='time',inplace=True)\n",
        "df_fix['datakecepatanangin'][0:90]"
      ],
      "metadata": {
        "colab": {
          "base_uri": "https://localhost:8080/"
        },
        "id": "E9oRfpWJti5Z",
        "outputId": "573cca7e-2039-4cd0-fe09-319c9c065a15"
      },
      "execution_count": null,
      "outputs": [
        {
          "output_type": "execute_result",
          "data": {
            "text/plain": [
              "tanggal\n",
              "2022-12-01    15.2\n",
              "2022-12-02    15.2\n",
              "2022-12-03    15.2\n",
              "2022-12-04    15.2\n",
              "2022-12-05    15.2\n",
              "              ... \n",
              "2023-02-24    25.1\n",
              "2023-02-25    25.1\n",
              "2023-02-26    25.1\n",
              "2023-02-27    25.1\n",
              "2023-02-28    25.1\n",
              "Name: datakecepatanangin, Length: 90, dtype: float64"
            ]
          },
          "metadata": {},
          "execution_count": 12
        }
      ]
    },
    {
      "cell_type": "code",
      "source": [
        "df_fix['datasuhuudara'][0:90]"
      ],
      "metadata": {
        "colab": {
          "base_uri": "https://localhost:8080/"
        },
        "id": "TaazoXyOikIL",
        "outputId": "04691482-feae-44a3-e37e-89e02287ad57"
      },
      "execution_count": null,
      "outputs": [
        {
          "output_type": "execute_result",
          "data": {
            "text/plain": [
              "tanggal\n",
              "2022-12-01    31.9\n",
              "2022-12-02    31.9\n",
              "2022-12-03    31.9\n",
              "2022-12-04    31.9\n",
              "2022-12-05    31.9\n",
              "              ... \n",
              "2023-02-24    22.0\n",
              "2023-02-25    22.0\n",
              "2023-02-26    22.0\n",
              "2023-02-27    22.0\n",
              "2023-02-28    22.0\n",
              "Name: datasuhuudara, Length: 90, dtype: float64"
            ]
          },
          "metadata": {},
          "execution_count": 13
        }
      ]
    },
    {
      "cell_type": "code",
      "source": [
        "df_fix['datakelembabanudara'][0:90]"
      ],
      "metadata": {
        "colab": {
          "base_uri": "https://localhost:8080/"
        },
        "id": "UyXtsy33itoT",
        "outputId": "d902effd-a513-4760-e260-2a642e9f96b4"
      },
      "execution_count": null,
      "outputs": [
        {
          "output_type": "execute_result",
          "data": {
            "text/plain": [
              "tanggal\n",
              "2022-12-01    80.5\n",
              "2022-12-02    80.5\n",
              "2022-12-03    80.5\n",
              "2022-12-04    80.5\n",
              "2022-12-05    80.5\n",
              "              ... \n",
              "2023-02-24    97.4\n",
              "2023-02-25    97.4\n",
              "2023-02-26    97.4\n",
              "2023-02-27    97.4\n",
              "2023-02-28    97.4\n",
              "Name: datakelembabanudara, Length: 90, dtype: float64"
            ]
          },
          "metadata": {},
          "execution_count": 14
        }
      ]
    },
    {
      "cell_type": "code",
      "source": [
        "df_fix['dataphtanah'][0:90]"
      ],
      "metadata": {
        "colab": {
          "base_uri": "https://localhost:8080/"
        },
        "id": "DrDANX7dvCTe",
        "outputId": "bee1f50a-9084-4b28-a0d8-4cc2d1983744"
      },
      "execution_count": null,
      "outputs": [
        {
          "output_type": "execute_result",
          "data": {
            "text/plain": [
              "tanggal\n",
              "2022-12-01    4.5\n",
              "2022-12-02    4.5\n",
              "2022-12-03    4.5\n",
              "2022-12-04    4.5\n",
              "2022-12-05    4.5\n",
              "             ... \n",
              "2023-02-24    5.0\n",
              "2023-02-25    5.0\n",
              "2023-02-26    5.0\n",
              "2023-02-27    5.0\n",
              "2023-02-28    5.0\n",
              "Name: dataphtanah, Length: 90, dtype: float64"
            ]
          },
          "metadata": {},
          "execution_count": 15
        }
      ]
    },
    {
      "cell_type": "code",
      "source": [
        "df_fix['datakelembabantanah'][0:90]"
      ],
      "metadata": {
        "colab": {
          "base_uri": "https://localhost:8080/"
        },
        "id": "caTinIDPi3G7",
        "outputId": "89391532-e19b-4e46-fdf6-ee8fb1e0ec86"
      },
      "execution_count": null,
      "outputs": [
        {
          "output_type": "execute_result",
          "data": {
            "text/plain": [
              "tanggal\n",
              "2022-12-01    63.0\n",
              "2022-12-02    63.0\n",
              "2022-12-03    63.0\n",
              "2022-12-04    63.0\n",
              "2022-12-05    63.0\n",
              "              ... \n",
              "2023-02-24    47.2\n",
              "2023-02-25    47.2\n",
              "2023-02-26    47.2\n",
              "2023-02-27    47.2\n",
              "2023-02-28    47.2\n",
              "Name: datakelembabantanah, Length: 90, dtype: float64"
            ]
          },
          "metadata": {},
          "execution_count": 16
        }
      ]
    },
    {
      "cell_type": "code",
      "source": [
        "df_fix['datasuhutanah'][0:90]"
      ],
      "metadata": {
        "colab": {
          "base_uri": "https://localhost:8080/"
        },
        "id": "jRGhzzgTi_jb",
        "outputId": "25fd5335-ff68-46d2-e1c7-78f793c29944"
      },
      "execution_count": null,
      "outputs": [
        {
          "output_type": "execute_result",
          "data": {
            "text/plain": [
              "tanggal\n",
              "2022-12-01    30.9\n",
              "2022-12-02    30.9\n",
              "2022-12-03    30.9\n",
              "2022-12-04    30.9\n",
              "2022-12-05    30.9\n",
              "              ... \n",
              "2023-02-24    12.6\n",
              "2023-02-25    12.6\n",
              "2023-02-26    12.6\n",
              "2023-02-27    12.6\n",
              "2023-02-28    12.6\n",
              "Name: datasuhutanah, Length: 90, dtype: float64"
            ]
          },
          "metadata": {},
          "execution_count": 17
        }
      ]
    },
    {
      "cell_type": "code",
      "source": [
        "df_fix['datakecepatanangin'][50:90]"
      ],
      "metadata": {
        "colab": {
          "base_uri": "https://localhost:8080/"
        },
        "id": "yVkH0pTI-wii",
        "outputId": "111a8362-24c6-4748-e8be-f4f63206a382"
      },
      "execution_count": null,
      "outputs": [
        {
          "output_type": "execute_result",
          "data": {
            "text/plain": [
              "tanggal\n",
              "2023-01-20     9.1\n",
              "2023-01-21     9.1\n",
              "2023-01-22     9.1\n",
              "2023-01-23    10.8\n",
              "2023-01-24    12.5\n",
              "2023-01-25    14.2\n",
              "2023-01-26    15.9\n",
              "2023-01-27    17.6\n",
              "2023-01-28    19.3\n",
              "2023-01-29    21.0\n",
              "2023-01-30    22.7\n",
              "2023-01-31    24.4\n",
              "2023-02-01    26.1\n",
              "2023-02-02    27.8\n",
              "2023-02-03    13.1\n",
              "2023-02-04    21.6\n",
              "2023-02-05    17.7\n",
              "2023-02-06    16.1\n",
              "2023-02-07    26.4\n",
              "2023-02-08    25.9\n",
              "2023-02-09    25.4\n",
              "2023-02-10    24.9\n",
              "2023-02-11    24.9\n",
              "2023-02-12    24.9\n",
              "2023-02-13    24.9\n",
              "2023-02-14    24.9\n",
              "2023-02-15    25.0\n",
              "2023-02-16    25.0\n",
              "2023-02-17    25.0\n",
              "2023-02-18    25.1\n",
              "2023-02-19    25.1\n",
              "2023-02-20    25.1\n",
              "2023-02-21    25.1\n",
              "2023-02-22    25.1\n",
              "2023-02-23    25.1\n",
              "2023-02-24    25.1\n",
              "2023-02-25    25.1\n",
              "2023-02-26    25.1\n",
              "2023-02-27    25.1\n",
              "2023-02-28    25.1\n",
              "Name: datakecepatanangin, dtype: float64"
            ]
          },
          "metadata": {},
          "execution_count": 18
        }
      ]
    },
    {
      "cell_type": "markdown",
      "source": [
        "##MELAKUKAN RESET INDEX"
      ],
      "metadata": {
        "id": "G9nZuCpG_Ezt"
      }
    },
    {
      "cell_type": "code",
      "source": [
        "df_fix.reset_index()"
      ],
      "metadata": {
        "colab": {
          "base_uri": "https://localhost:8080/",
          "height": 696
        },
        "id": "paxNQb029Hgu",
        "outputId": "7bd6c486-6d24-4b13-ea8e-b1cc7a11843a"
      },
      "execution_count": null,
      "outputs": [
        {
          "output_type": "execute_result",
          "data": {
            "text/plain": [
              "      tanggal  datakecepatanangin  datasuhuudara  datakelembabanudara  \\\n",
              "0  2022-12-01                15.2           31.9                 80.5   \n",
              "1  2022-12-02                15.2           31.9                 80.5   \n",
              "2  2022-12-03                15.2           31.9                 80.5   \n",
              "3  2022-12-04                15.2           31.9                 80.5   \n",
              "4  2022-12-05                15.2           31.9                 80.5   \n",
              "..        ...                 ...            ...                  ...   \n",
              "85 2023-02-24                25.1           22.0                 97.4   \n",
              "86 2023-02-25                25.1           22.0                 97.4   \n",
              "87 2023-02-26                25.1           22.0                 97.4   \n",
              "88 2023-02-27                25.1           22.0                 97.4   \n",
              "89 2023-02-28                25.1           22.0                 97.4   \n",
              "\n",
              "    dataphtanah  datakelembabantanah  datasuhutanah  Harga Bawang Brebes   \n",
              "0           4.5                 63.0           30.9                 30000  \n",
              "1           4.5                 63.0           30.9                 30000  \n",
              "2           4.5                 63.0           30.9                 31000  \n",
              "3           4.5                 63.0           30.9                 31000  \n",
              "4           4.5                 63.0           30.9                 31000  \n",
              "..          ...                  ...            ...                   ...  \n",
              "85          5.0                 47.2           12.6                 35833  \n",
              "86          5.0                 47.2           12.6                 35833  \n",
              "87          5.0                 47.2           12.6                 35833  \n",
              "88          5.0                 47.2           12.6                 37666  \n",
              "89          5.0                 47.2           12.6                 35000  \n",
              "\n",
              "[90 rows x 8 columns]"
            ],
            "text/html": [
              "\n",
              "  <div id=\"df-ce99d8ea-92aa-4478-b2c6-ab6e53d510b4\">\n",
              "    <div class=\"colab-df-container\">\n",
              "      <div>\n",
              "<style scoped>\n",
              "    .dataframe tbody tr th:only-of-type {\n",
              "        vertical-align: middle;\n",
              "    }\n",
              "\n",
              "    .dataframe tbody tr th {\n",
              "        vertical-align: top;\n",
              "    }\n",
              "\n",
              "    .dataframe thead th {\n",
              "        text-align: right;\n",
              "    }\n",
              "</style>\n",
              "<table border=\"1\" class=\"dataframe\">\n",
              "  <thead>\n",
              "    <tr style=\"text-align: right;\">\n",
              "      <th></th>\n",
              "      <th>tanggal</th>\n",
              "      <th>datakecepatanangin</th>\n",
              "      <th>datasuhuudara</th>\n",
              "      <th>datakelembabanudara</th>\n",
              "      <th>dataphtanah</th>\n",
              "      <th>datakelembabantanah</th>\n",
              "      <th>datasuhutanah</th>\n",
              "      <th>Harga Bawang Brebes</th>\n",
              "    </tr>\n",
              "  </thead>\n",
              "  <tbody>\n",
              "    <tr>\n",
              "      <th>0</th>\n",
              "      <td>2022-12-01</td>\n",
              "      <td>15.2</td>\n",
              "      <td>31.9</td>\n",
              "      <td>80.5</td>\n",
              "      <td>4.5</td>\n",
              "      <td>63.0</td>\n",
              "      <td>30.9</td>\n",
              "      <td>30000</td>\n",
              "    </tr>\n",
              "    <tr>\n",
              "      <th>1</th>\n",
              "      <td>2022-12-02</td>\n",
              "      <td>15.2</td>\n",
              "      <td>31.9</td>\n",
              "      <td>80.5</td>\n",
              "      <td>4.5</td>\n",
              "      <td>63.0</td>\n",
              "      <td>30.9</td>\n",
              "      <td>30000</td>\n",
              "    </tr>\n",
              "    <tr>\n",
              "      <th>2</th>\n",
              "      <td>2022-12-03</td>\n",
              "      <td>15.2</td>\n",
              "      <td>31.9</td>\n",
              "      <td>80.5</td>\n",
              "      <td>4.5</td>\n",
              "      <td>63.0</td>\n",
              "      <td>30.9</td>\n",
              "      <td>31000</td>\n",
              "    </tr>\n",
              "    <tr>\n",
              "      <th>3</th>\n",
              "      <td>2022-12-04</td>\n",
              "      <td>15.2</td>\n",
              "      <td>31.9</td>\n",
              "      <td>80.5</td>\n",
              "      <td>4.5</td>\n",
              "      <td>63.0</td>\n",
              "      <td>30.9</td>\n",
              "      <td>31000</td>\n",
              "    </tr>\n",
              "    <tr>\n",
              "      <th>4</th>\n",
              "      <td>2022-12-05</td>\n",
              "      <td>15.2</td>\n",
              "      <td>31.9</td>\n",
              "      <td>80.5</td>\n",
              "      <td>4.5</td>\n",
              "      <td>63.0</td>\n",
              "      <td>30.9</td>\n",
              "      <td>31000</td>\n",
              "    </tr>\n",
              "    <tr>\n",
              "      <th>...</th>\n",
              "      <td>...</td>\n",
              "      <td>...</td>\n",
              "      <td>...</td>\n",
              "      <td>...</td>\n",
              "      <td>...</td>\n",
              "      <td>...</td>\n",
              "      <td>...</td>\n",
              "      <td>...</td>\n",
              "    </tr>\n",
              "    <tr>\n",
              "      <th>85</th>\n",
              "      <td>2023-02-24</td>\n",
              "      <td>25.1</td>\n",
              "      <td>22.0</td>\n",
              "      <td>97.4</td>\n",
              "      <td>5.0</td>\n",
              "      <td>47.2</td>\n",
              "      <td>12.6</td>\n",
              "      <td>35833</td>\n",
              "    </tr>\n",
              "    <tr>\n",
              "      <th>86</th>\n",
              "      <td>2023-02-25</td>\n",
              "      <td>25.1</td>\n",
              "      <td>22.0</td>\n",
              "      <td>97.4</td>\n",
              "      <td>5.0</td>\n",
              "      <td>47.2</td>\n",
              "      <td>12.6</td>\n",
              "      <td>35833</td>\n",
              "    </tr>\n",
              "    <tr>\n",
              "      <th>87</th>\n",
              "      <td>2023-02-26</td>\n",
              "      <td>25.1</td>\n",
              "      <td>22.0</td>\n",
              "      <td>97.4</td>\n",
              "      <td>5.0</td>\n",
              "      <td>47.2</td>\n",
              "      <td>12.6</td>\n",
              "      <td>35833</td>\n",
              "    </tr>\n",
              "    <tr>\n",
              "      <th>88</th>\n",
              "      <td>2023-02-27</td>\n",
              "      <td>25.1</td>\n",
              "      <td>22.0</td>\n",
              "      <td>97.4</td>\n",
              "      <td>5.0</td>\n",
              "      <td>47.2</td>\n",
              "      <td>12.6</td>\n",
              "      <td>37666</td>\n",
              "    </tr>\n",
              "    <tr>\n",
              "      <th>89</th>\n",
              "      <td>2023-02-28</td>\n",
              "      <td>25.1</td>\n",
              "      <td>22.0</td>\n",
              "      <td>97.4</td>\n",
              "      <td>5.0</td>\n",
              "      <td>47.2</td>\n",
              "      <td>12.6</td>\n",
              "      <td>35000</td>\n",
              "    </tr>\n",
              "  </tbody>\n",
              "</table>\n",
              "<p>90 rows × 8 columns</p>\n",
              "</div>\n",
              "      <button class=\"colab-df-convert\" onclick=\"convertToInteractive('df-ce99d8ea-92aa-4478-b2c6-ab6e53d510b4')\"\n",
              "              title=\"Convert this dataframe to an interactive table.\"\n",
              "              style=\"display:none;\">\n",
              "        \n",
              "  <svg xmlns=\"http://www.w3.org/2000/svg\" height=\"24px\"viewBox=\"0 0 24 24\"\n",
              "       width=\"24px\">\n",
              "    <path d=\"M0 0h24v24H0V0z\" fill=\"none\"/>\n",
              "    <path d=\"M18.56 5.44l.94 2.06.94-2.06 2.06-.94-2.06-.94-.94-2.06-.94 2.06-2.06.94zm-11 1L8.5 8.5l.94-2.06 2.06-.94-2.06-.94L8.5 2.5l-.94 2.06-2.06.94zm10 10l.94 2.06.94-2.06 2.06-.94-2.06-.94-.94-2.06-.94 2.06-2.06.94z\"/><path d=\"M17.41 7.96l-1.37-1.37c-.4-.4-.92-.59-1.43-.59-.52 0-1.04.2-1.43.59L10.3 9.45l-7.72 7.72c-.78.78-.78 2.05 0 2.83L4 21.41c.39.39.9.59 1.41.59.51 0 1.02-.2 1.41-.59l7.78-7.78 2.81-2.81c.8-.78.8-2.07 0-2.86zM5.41 20L4 18.59l7.72-7.72 1.47 1.35L5.41 20z\"/>\n",
              "  </svg>\n",
              "      </button>\n",
              "      \n",
              "  <style>\n",
              "    .colab-df-container {\n",
              "      display:flex;\n",
              "      flex-wrap:wrap;\n",
              "      gap: 12px;\n",
              "    }\n",
              "\n",
              "    .colab-df-convert {\n",
              "      background-color: #E8F0FE;\n",
              "      border: none;\n",
              "      border-radius: 50%;\n",
              "      cursor: pointer;\n",
              "      display: none;\n",
              "      fill: #1967D2;\n",
              "      height: 32px;\n",
              "      padding: 0 0 0 0;\n",
              "      width: 32px;\n",
              "    }\n",
              "\n",
              "    .colab-df-convert:hover {\n",
              "      background-color: #E2EBFA;\n",
              "      box-shadow: 0px 1px 2px rgba(60, 64, 67, 0.3), 0px 1px 3px 1px rgba(60, 64, 67, 0.15);\n",
              "      fill: #174EA6;\n",
              "    }\n",
              "\n",
              "    [theme=dark] .colab-df-convert {\n",
              "      background-color: #3B4455;\n",
              "      fill: #D2E3FC;\n",
              "    }\n",
              "\n",
              "    [theme=dark] .colab-df-convert:hover {\n",
              "      background-color: #434B5C;\n",
              "      box-shadow: 0px 1px 3px 1px rgba(0, 0, 0, 0.15);\n",
              "      filter: drop-shadow(0px 1px 2px rgba(0, 0, 0, 0.3));\n",
              "      fill: #FFFFFF;\n",
              "    }\n",
              "  </style>\n",
              "\n",
              "      <script>\n",
              "        const buttonEl =\n",
              "          document.querySelector('#df-ce99d8ea-92aa-4478-b2c6-ab6e53d510b4 button.colab-df-convert');\n",
              "        buttonEl.style.display =\n",
              "          google.colab.kernel.accessAllowed ? 'block' : 'none';\n",
              "\n",
              "        async function convertToInteractive(key) {\n",
              "          const element = document.querySelector('#df-ce99d8ea-92aa-4478-b2c6-ab6e53d510b4');\n",
              "          const dataTable =\n",
              "            await google.colab.kernel.invokeFunction('convertToInteractive',\n",
              "                                                     [key], {});\n",
              "          if (!dataTable) return;\n",
              "\n",
              "          const docLinkHtml = 'Like what you see? Visit the ' +\n",
              "            '<a target=\"_blank\" href=https://colab.research.google.com/notebooks/data_table.ipynb>data table notebook</a>'\n",
              "            + ' to learn more about interactive tables.';\n",
              "          element.innerHTML = '';\n",
              "          dataTable['output_type'] = 'display_data';\n",
              "          await google.colab.output.renderOutput(dataTable, element);\n",
              "          const docLink = document.createElement('div');\n",
              "          docLink.innerHTML = docLinkHtml;\n",
              "          element.appendChild(docLink);\n",
              "        }\n",
              "      </script>\n",
              "    </div>\n",
              "  </div>\n",
              "  "
            ]
          },
          "metadata": {},
          "execution_count": 19
        }
      ]
    },
    {
      "cell_type": "markdown",
      "source": [
        "##EXPORT DATASET KE EXCEL"
      ],
      "metadata": {
        "id": "pEfyazZcAMZF"
      }
    },
    {
      "cell_type": "code",
      "source": [
        "#download file excel yang telah di clean\n",
        "df_fix.to_excel(\"iot_brebes_interpolasi.xlsx\", index=True)\n",
        "\n",
        "#library untuk download file\n",
        "from google.colab import files\n",
        "files.download(\"iot_brebes_interpolasi.xlsx\")"
      ],
      "metadata": {
        "colab": {
          "base_uri": "https://localhost:8080/",
          "height": 17
        },
        "id": "ccAYUZOw7nFR",
        "outputId": "70641a25-ddac-438a-acce-8fc2a544d73f"
      },
      "execution_count": null,
      "outputs": [
        {
          "output_type": "display_data",
          "data": {
            "text/plain": [
              "<IPython.core.display.Javascript object>"
            ],
            "application/javascript": [
              "\n",
              "    async function download(id, filename, size) {\n",
              "      if (!google.colab.kernel.accessAllowed) {\n",
              "        return;\n",
              "      }\n",
              "      const div = document.createElement('div');\n",
              "      const label = document.createElement('label');\n",
              "      label.textContent = `Downloading \"${filename}\": `;\n",
              "      div.appendChild(label);\n",
              "      const progress = document.createElement('progress');\n",
              "      progress.max = size;\n",
              "      div.appendChild(progress);\n",
              "      document.body.appendChild(div);\n",
              "\n",
              "      const buffers = [];\n",
              "      let downloaded = 0;\n",
              "\n",
              "      const channel = await google.colab.kernel.comms.open(id);\n",
              "      // Send a message to notify the kernel that we're ready.\n",
              "      channel.send({})\n",
              "\n",
              "      for await (const message of channel.messages) {\n",
              "        // Send a message to notify the kernel that we're ready.\n",
              "        channel.send({})\n",
              "        if (message.buffers) {\n",
              "          for (const buffer of message.buffers) {\n",
              "            buffers.push(buffer);\n",
              "            downloaded += buffer.byteLength;\n",
              "            progress.value = downloaded;\n",
              "          }\n",
              "        }\n",
              "      }\n",
              "      const blob = new Blob(buffers, {type: 'application/binary'});\n",
              "      const a = document.createElement('a');\n",
              "      a.href = window.URL.createObjectURL(blob);\n",
              "      a.download = filename;\n",
              "      div.appendChild(a);\n",
              "      a.click();\n",
              "      div.remove();\n",
              "    }\n",
              "  "
            ]
          },
          "metadata": {}
        },
        {
          "output_type": "display_data",
          "data": {
            "text/plain": [
              "<IPython.core.display.Javascript object>"
            ],
            "application/javascript": [
              "download(\"download_4b26780f-132e-49c4-833a-ce3b0f762724\", \"iot_brebes_interpolasi.xlsx\", 8814)"
            ]
          },
          "metadata": {}
        }
      ]
    }
  ]
}