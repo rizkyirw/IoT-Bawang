{
  "nbformat": 4,
  "nbformat_minor": 0,
  "metadata": {
    "colab": {
      "provenance": []
    },
    "kernelspec": {
      "name": "python3",
      "display_name": "Python 3"
    },
    "language_info": {
      "name": "python"
    }
  },
  "cells": [
    {
      "cell_type": "code",
      "execution_count": null,
      "metadata": {
        "colab": {
          "base_uri": "https://localhost:8080/"
        },
        "id": "KvGN8phykvbX",
        "outputId": "139d86c4-3f46-427a-bd97-8be995295654"
      },
      "outputs": [
        {
          "output_type": "stream",
          "name": "stdout",
          "text": [
            "Mounted at /content/drive\n"
          ]
        }
      ],
      "source": [
        "from google.colab import drive\n",
        "drive.mount('/content/drive')"
      ]
    },
    {
      "cell_type": "code",
      "source": [
        "import pandas as pd\n",
        "import numpy as np\n",
        "\n",
        "df = pd.read_excel('/content/drive/MyDrive/Data_Iot/iot-eda-boyolali.xlsx')"
      ],
      "metadata": {
        "id": "COAv9ZCMk52A"
      },
      "execution_count": null,
      "outputs": []
    },
    {
      "cell_type": "code",
      "source": [
        "df"
      ],
      "metadata": {
        "colab": {
          "base_uri": "https://localhost:8080/",
          "height": 423
        },
        "id": "2IafS3wPk7kz",
        "outputId": "6af177e3-7302-448b-9f62-ed4f0a60e011"
      },
      "execution_count": null,
      "outputs": [
        {
          "output_type": "execute_result",
          "data": {
            "text/plain": [
              "     BOYOLALI  datakecepatanangin  datasuhuudara  datakelembabanudara  \\\n",
              "0  2022-12-01                 NaN            NaN                  NaN   \n",
              "1  2022-12-02                 NaN            NaN                  NaN   \n",
              "2  2022-12-03                 NaN            NaN                  NaN   \n",
              "3  2022-12-04                 NaN            NaN                  NaN   \n",
              "4  2022-12-05                 NaN            NaN                  NaN   \n",
              "..        ...                 ...            ...                  ...   \n",
              "85 2023-02-24                 NaN            NaN                  NaN   \n",
              "86 2023-02-25                 NaN            NaN                  NaN   \n",
              "87 2023-02-26                 NaN            NaN                  NaN   \n",
              "88 2023-02-27                 NaN            NaN                  NaN   \n",
              "89 2023-02-28                 NaN            NaN                  NaN   \n",
              "\n",
              "    dataphtanah  datakelembabantanah  datasuhutanah  Harga Bawang Boyolali  \n",
              "0           NaN                  NaN            NaN                  30000  \n",
              "1           NaN                  NaN            NaN                  32000  \n",
              "2           NaN                  NaN            NaN                  32500  \n",
              "3           NaN                  NaN            NaN                  32500  \n",
              "4           NaN                  NaN            NaN                  33000  \n",
              "..          ...                  ...            ...                    ...  \n",
              "85          NaN                  NaN            NaN                  28000  \n",
              "86          NaN                  NaN            NaN                  28000  \n",
              "87          NaN                  NaN            NaN                  28000  \n",
              "88          NaN                  NaN            NaN                  28000  \n",
              "89          NaN                  NaN            NaN                  30000  \n",
              "\n",
              "[90 rows x 8 columns]"
            ],
            "text/html": [
              "\n",
              "  <div id=\"df-6cb070a5-ac4d-498e-a676-fa14b009702f\">\n",
              "    <div class=\"colab-df-container\">\n",
              "      <div>\n",
              "<style scoped>\n",
              "    .dataframe tbody tr th:only-of-type {\n",
              "        vertical-align: middle;\n",
              "    }\n",
              "\n",
              "    .dataframe tbody tr th {\n",
              "        vertical-align: top;\n",
              "    }\n",
              "\n",
              "    .dataframe thead th {\n",
              "        text-align: right;\n",
              "    }\n",
              "</style>\n",
              "<table border=\"1\" class=\"dataframe\">\n",
              "  <thead>\n",
              "    <tr style=\"text-align: right;\">\n",
              "      <th></th>\n",
              "      <th>BOYOLALI</th>\n",
              "      <th>datakecepatanangin</th>\n",
              "      <th>datasuhuudara</th>\n",
              "      <th>datakelembabanudara</th>\n",
              "      <th>dataphtanah</th>\n",
              "      <th>datakelembabantanah</th>\n",
              "      <th>datasuhutanah</th>\n",
              "      <th>Harga Bawang Boyolali</th>\n",
              "    </tr>\n",
              "  </thead>\n",
              "  <tbody>\n",
              "    <tr>\n",
              "      <th>0</th>\n",
              "      <td>2022-12-01</td>\n",
              "      <td>NaN</td>\n",
              "      <td>NaN</td>\n",
              "      <td>NaN</td>\n",
              "      <td>NaN</td>\n",
              "      <td>NaN</td>\n",
              "      <td>NaN</td>\n",
              "      <td>30000</td>\n",
              "    </tr>\n",
              "    <tr>\n",
              "      <th>1</th>\n",
              "      <td>2022-12-02</td>\n",
              "      <td>NaN</td>\n",
              "      <td>NaN</td>\n",
              "      <td>NaN</td>\n",
              "      <td>NaN</td>\n",
              "      <td>NaN</td>\n",
              "      <td>NaN</td>\n",
              "      <td>32000</td>\n",
              "    </tr>\n",
              "    <tr>\n",
              "      <th>2</th>\n",
              "      <td>2022-12-03</td>\n",
              "      <td>NaN</td>\n",
              "      <td>NaN</td>\n",
              "      <td>NaN</td>\n",
              "      <td>NaN</td>\n",
              "      <td>NaN</td>\n",
              "      <td>NaN</td>\n",
              "      <td>32500</td>\n",
              "    </tr>\n",
              "    <tr>\n",
              "      <th>3</th>\n",
              "      <td>2022-12-04</td>\n",
              "      <td>NaN</td>\n",
              "      <td>NaN</td>\n",
              "      <td>NaN</td>\n",
              "      <td>NaN</td>\n",
              "      <td>NaN</td>\n",
              "      <td>NaN</td>\n",
              "      <td>32500</td>\n",
              "    </tr>\n",
              "    <tr>\n",
              "      <th>4</th>\n",
              "      <td>2022-12-05</td>\n",
              "      <td>NaN</td>\n",
              "      <td>NaN</td>\n",
              "      <td>NaN</td>\n",
              "      <td>NaN</td>\n",
              "      <td>NaN</td>\n",
              "      <td>NaN</td>\n",
              "      <td>33000</td>\n",
              "    </tr>\n",
              "    <tr>\n",
              "      <th>...</th>\n",
              "      <td>...</td>\n",
              "      <td>...</td>\n",
              "      <td>...</td>\n",
              "      <td>...</td>\n",
              "      <td>...</td>\n",
              "      <td>...</td>\n",
              "      <td>...</td>\n",
              "      <td>...</td>\n",
              "    </tr>\n",
              "    <tr>\n",
              "      <th>85</th>\n",
              "      <td>2023-02-24</td>\n",
              "      <td>NaN</td>\n",
              "      <td>NaN</td>\n",
              "      <td>NaN</td>\n",
              "      <td>NaN</td>\n",
              "      <td>NaN</td>\n",
              "      <td>NaN</td>\n",
              "      <td>28000</td>\n",
              "    </tr>\n",
              "    <tr>\n",
              "      <th>86</th>\n",
              "      <td>2023-02-25</td>\n",
              "      <td>NaN</td>\n",
              "      <td>NaN</td>\n",
              "      <td>NaN</td>\n",
              "      <td>NaN</td>\n",
              "      <td>NaN</td>\n",
              "      <td>NaN</td>\n",
              "      <td>28000</td>\n",
              "    </tr>\n",
              "    <tr>\n",
              "      <th>87</th>\n",
              "      <td>2023-02-26</td>\n",
              "      <td>NaN</td>\n",
              "      <td>NaN</td>\n",
              "      <td>NaN</td>\n",
              "      <td>NaN</td>\n",
              "      <td>NaN</td>\n",
              "      <td>NaN</td>\n",
              "      <td>28000</td>\n",
              "    </tr>\n",
              "    <tr>\n",
              "      <th>88</th>\n",
              "      <td>2023-02-27</td>\n",
              "      <td>NaN</td>\n",
              "      <td>NaN</td>\n",
              "      <td>NaN</td>\n",
              "      <td>NaN</td>\n",
              "      <td>NaN</td>\n",
              "      <td>NaN</td>\n",
              "      <td>28000</td>\n",
              "    </tr>\n",
              "    <tr>\n",
              "      <th>89</th>\n",
              "      <td>2023-02-28</td>\n",
              "      <td>NaN</td>\n",
              "      <td>NaN</td>\n",
              "      <td>NaN</td>\n",
              "      <td>NaN</td>\n",
              "      <td>NaN</td>\n",
              "      <td>NaN</td>\n",
              "      <td>30000</td>\n",
              "    </tr>\n",
              "  </tbody>\n",
              "</table>\n",
              "<p>90 rows × 8 columns</p>\n",
              "</div>\n",
              "      <button class=\"colab-df-convert\" onclick=\"convertToInteractive('df-6cb070a5-ac4d-498e-a676-fa14b009702f')\"\n",
              "              title=\"Convert this dataframe to an interactive table.\"\n",
              "              style=\"display:none;\">\n",
              "        \n",
              "  <svg xmlns=\"http://www.w3.org/2000/svg\" height=\"24px\"viewBox=\"0 0 24 24\"\n",
              "       width=\"24px\">\n",
              "    <path d=\"M0 0h24v24H0V0z\" fill=\"none\"/>\n",
              "    <path d=\"M18.56 5.44l.94 2.06.94-2.06 2.06-.94-2.06-.94-.94-2.06-.94 2.06-2.06.94zm-11 1L8.5 8.5l.94-2.06 2.06-.94-2.06-.94L8.5 2.5l-.94 2.06-2.06.94zm10 10l.94 2.06.94-2.06 2.06-.94-2.06-.94-.94-2.06-.94 2.06-2.06.94z\"/><path d=\"M17.41 7.96l-1.37-1.37c-.4-.4-.92-.59-1.43-.59-.52 0-1.04.2-1.43.59L10.3 9.45l-7.72 7.72c-.78.78-.78 2.05 0 2.83L4 21.41c.39.39.9.59 1.41.59.51 0 1.02-.2 1.41-.59l7.78-7.78 2.81-2.81c.8-.78.8-2.07 0-2.86zM5.41 20L4 18.59l7.72-7.72 1.47 1.35L5.41 20z\"/>\n",
              "  </svg>\n",
              "      </button>\n",
              "      \n",
              "  <style>\n",
              "    .colab-df-container {\n",
              "      display:flex;\n",
              "      flex-wrap:wrap;\n",
              "      gap: 12px;\n",
              "    }\n",
              "\n",
              "    .colab-df-convert {\n",
              "      background-color: #E8F0FE;\n",
              "      border: none;\n",
              "      border-radius: 50%;\n",
              "      cursor: pointer;\n",
              "      display: none;\n",
              "      fill: #1967D2;\n",
              "      height: 32px;\n",
              "      padding: 0 0 0 0;\n",
              "      width: 32px;\n",
              "    }\n",
              "\n",
              "    .colab-df-convert:hover {\n",
              "      background-color: #E2EBFA;\n",
              "      box-shadow: 0px 1px 2px rgba(60, 64, 67, 0.3), 0px 1px 3px 1px rgba(60, 64, 67, 0.15);\n",
              "      fill: #174EA6;\n",
              "    }\n",
              "\n",
              "    [theme=dark] .colab-df-convert {\n",
              "      background-color: #3B4455;\n",
              "      fill: #D2E3FC;\n",
              "    }\n",
              "\n",
              "    [theme=dark] .colab-df-convert:hover {\n",
              "      background-color: #434B5C;\n",
              "      box-shadow: 0px 1px 3px 1px rgba(0, 0, 0, 0.15);\n",
              "      filter: drop-shadow(0px 1px 2px rgba(0, 0, 0, 0.3));\n",
              "      fill: #FFFFFF;\n",
              "    }\n",
              "  </style>\n",
              "\n",
              "      <script>\n",
              "        const buttonEl =\n",
              "          document.querySelector('#df-6cb070a5-ac4d-498e-a676-fa14b009702f button.colab-df-convert');\n",
              "        buttonEl.style.display =\n",
              "          google.colab.kernel.accessAllowed ? 'block' : 'none';\n",
              "\n",
              "        async function convertToInteractive(key) {\n",
              "          const element = document.querySelector('#df-6cb070a5-ac4d-498e-a676-fa14b009702f');\n",
              "          const dataTable =\n",
              "            await google.colab.kernel.invokeFunction('convertToInteractive',\n",
              "                                                     [key], {});\n",
              "          if (!dataTable) return;\n",
              "\n",
              "          const docLinkHtml = 'Like what you see? Visit the ' +\n",
              "            '<a target=\"_blank\" href=https://colab.research.google.com/notebooks/data_table.ipynb>data table notebook</a>'\n",
              "            + ' to learn more about interactive tables.';\n",
              "          element.innerHTML = '';\n",
              "          dataTable['output_type'] = 'display_data';\n",
              "          await google.colab.output.renderOutput(dataTable, element);\n",
              "          const docLink = document.createElement('div');\n",
              "          docLink.innerHTML = docLinkHtml;\n",
              "          element.appendChild(docLink);\n",
              "        }\n",
              "      </script>\n",
              "    </div>\n",
              "  </div>\n",
              "  "
            ]
          },
          "metadata": {},
          "execution_count": 3
        }
      ]
    },
    {
      "cell_type": "code",
      "source": [
        "df.info()"
      ],
      "metadata": {
        "colab": {
          "base_uri": "https://localhost:8080/"
        },
        "id": "4vVom-M2o0JM",
        "outputId": "f4698105-2f97-4a3b-f7d0-ecd737cce20d"
      },
      "execution_count": null,
      "outputs": [
        {
          "output_type": "stream",
          "name": "stdout",
          "text": [
            "<class 'pandas.core.frame.DataFrame'>\n",
            "RangeIndex: 90 entries, 0 to 89\n",
            "Data columns (total 8 columns):\n",
            " #   Column                 Non-Null Count  Dtype         \n",
            "---  ------                 --------------  -----         \n",
            " 0   BOYOLALI               90 non-null     datetime64[ns]\n",
            " 1   datakecepatanangin     58 non-null     float64       \n",
            " 2   datasuhuudara          58 non-null     float64       \n",
            " 3   datakelembabanudara    58 non-null     float64       \n",
            " 4   dataphtanah            58 non-null     float64       \n",
            " 5   datakelembabantanah    58 non-null     float64       \n",
            " 6   datasuhutanah          58 non-null     float64       \n",
            " 7   Harga Bawang Boyolali  90 non-null     int64         \n",
            "dtypes: datetime64[ns](1), float64(6), int64(1)\n",
            "memory usage: 5.8 KB\n"
          ]
        }
      ]
    },
    {
      "cell_type": "markdown",
      "source": [
        "### Drop Boyolali Date Column"
      ],
      "metadata": {
        "id": "tKl-jnYPF2Cc"
      }
    },
    {
      "cell_type": "code",
      "source": [
        "df.drop(['BOYOLALI'], axis=1, inplace=True)"
      ],
      "metadata": {
        "id": "HVHvOzom6n6k"
      },
      "execution_count": null,
      "outputs": []
    },
    {
      "cell_type": "markdown",
      "source": [
        "### Import Library"
      ],
      "metadata": {
        "id": "AZ-WPYS7F59A"
      }
    },
    {
      "cell_type": "code",
      "source": [
        "import pandas as pd\n",
        "import numpy as np\n",
        "import matplotlib.pyplot as plt\n",
        "import seaborn as sns\n",
        "import missingno as mno\n",
        "from sklearn import linear_model\n",
        "%matplotlib inline"
      ],
      "metadata": {
        "id": "U7bYdt7fqfxe"
      },
      "execution_count": null,
      "outputs": []
    },
    {
      "cell_type": "code",
      "source": [
        "df.describe()"
      ],
      "metadata": {
        "colab": {
          "base_uri": "https://localhost:8080/",
          "height": 300
        },
        "id": "Osdz6LZYqjh2",
        "outputId": "55582ac0-b304-47f3-965c-aad51d36727b"
      },
      "execution_count": null,
      "outputs": [
        {
          "output_type": "execute_result",
          "data": {
            "text/plain": [
              "       datakecepatanangin  datasuhuudara  datakelembabanudara  dataphtanah  \\\n",
              "count           58.000000      58.000000            58.000000    58.000000   \n",
              "mean            27.199184      24.056728            81.738643     5.462026   \n",
              "std             14.092232       5.600201             9.457658     0.907487   \n",
              "min             14.695122      15.000000            73.895349     4.262500   \n",
              "25%             15.250753      20.202830            74.688679     4.545455   \n",
              "50%             25.209190      21.524207            76.653019     5.060797   \n",
              "75%             31.469340      32.042135            91.126953     6.225067   \n",
              "max             84.060976      33.141026            97.393365     8.000000   \n",
              "\n",
              "       datakelembabantanah  datasuhutanah  Harga Bawang Boyolali  \n",
              "count            58.000000      58.000000              90.000000  \n",
              "mean             50.126447      22.458582           35052.777778  \n",
              "std               8.104980       6.147654            4409.911978  \n",
              "min              43.687500      12.056872           27000.000000  \n",
              "25%              44.051213      21.311379           32000.000000  \n",
              "50%              46.536335      22.816038           34000.000000  \n",
              "75%              61.973131      28.974725           40000.000000  \n",
              "max              63.188235      29.927711           45000.000000  "
            ],
            "text/html": [
              "\n",
              "  <div id=\"df-f7608f3d-2d29-46ae-af66-10f802a6f2e0\">\n",
              "    <div class=\"colab-df-container\">\n",
              "      <div>\n",
              "<style scoped>\n",
              "    .dataframe tbody tr th:only-of-type {\n",
              "        vertical-align: middle;\n",
              "    }\n",
              "\n",
              "    .dataframe tbody tr th {\n",
              "        vertical-align: top;\n",
              "    }\n",
              "\n",
              "    .dataframe thead th {\n",
              "        text-align: right;\n",
              "    }\n",
              "</style>\n",
              "<table border=\"1\" class=\"dataframe\">\n",
              "  <thead>\n",
              "    <tr style=\"text-align: right;\">\n",
              "      <th></th>\n",
              "      <th>datakecepatanangin</th>\n",
              "      <th>datasuhuudara</th>\n",
              "      <th>datakelembabanudara</th>\n",
              "      <th>dataphtanah</th>\n",
              "      <th>datakelembabantanah</th>\n",
              "      <th>datasuhutanah</th>\n",
              "      <th>Harga Bawang Boyolali</th>\n",
              "    </tr>\n",
              "  </thead>\n",
              "  <tbody>\n",
              "    <tr>\n",
              "      <th>count</th>\n",
              "      <td>58.000000</td>\n",
              "      <td>58.000000</td>\n",
              "      <td>58.000000</td>\n",
              "      <td>58.000000</td>\n",
              "      <td>58.000000</td>\n",
              "      <td>58.000000</td>\n",
              "      <td>90.000000</td>\n",
              "    </tr>\n",
              "    <tr>\n",
              "      <th>mean</th>\n",
              "      <td>27.199184</td>\n",
              "      <td>24.056728</td>\n",
              "      <td>81.738643</td>\n",
              "      <td>5.462026</td>\n",
              "      <td>50.126447</td>\n",
              "      <td>22.458582</td>\n",
              "      <td>35052.777778</td>\n",
              "    </tr>\n",
              "    <tr>\n",
              "      <th>std</th>\n",
              "      <td>14.092232</td>\n",
              "      <td>5.600201</td>\n",
              "      <td>9.457658</td>\n",
              "      <td>0.907487</td>\n",
              "      <td>8.104980</td>\n",
              "      <td>6.147654</td>\n",
              "      <td>4409.911978</td>\n",
              "    </tr>\n",
              "    <tr>\n",
              "      <th>min</th>\n",
              "      <td>14.695122</td>\n",
              "      <td>15.000000</td>\n",
              "      <td>73.895349</td>\n",
              "      <td>4.262500</td>\n",
              "      <td>43.687500</td>\n",
              "      <td>12.056872</td>\n",
              "      <td>27000.000000</td>\n",
              "    </tr>\n",
              "    <tr>\n",
              "      <th>25%</th>\n",
              "      <td>15.250753</td>\n",
              "      <td>20.202830</td>\n",
              "      <td>74.688679</td>\n",
              "      <td>4.545455</td>\n",
              "      <td>44.051213</td>\n",
              "      <td>21.311379</td>\n",
              "      <td>32000.000000</td>\n",
              "    </tr>\n",
              "    <tr>\n",
              "      <th>50%</th>\n",
              "      <td>25.209190</td>\n",
              "      <td>21.524207</td>\n",
              "      <td>76.653019</td>\n",
              "      <td>5.060797</td>\n",
              "      <td>46.536335</td>\n",
              "      <td>22.816038</td>\n",
              "      <td>34000.000000</td>\n",
              "    </tr>\n",
              "    <tr>\n",
              "      <th>75%</th>\n",
              "      <td>31.469340</td>\n",
              "      <td>32.042135</td>\n",
              "      <td>91.126953</td>\n",
              "      <td>6.225067</td>\n",
              "      <td>61.973131</td>\n",
              "      <td>28.974725</td>\n",
              "      <td>40000.000000</td>\n",
              "    </tr>\n",
              "    <tr>\n",
              "      <th>max</th>\n",
              "      <td>84.060976</td>\n",
              "      <td>33.141026</td>\n",
              "      <td>97.393365</td>\n",
              "      <td>8.000000</td>\n",
              "      <td>63.188235</td>\n",
              "      <td>29.927711</td>\n",
              "      <td>45000.000000</td>\n",
              "    </tr>\n",
              "  </tbody>\n",
              "</table>\n",
              "</div>\n",
              "      <button class=\"colab-df-convert\" onclick=\"convertToInteractive('df-f7608f3d-2d29-46ae-af66-10f802a6f2e0')\"\n",
              "              title=\"Convert this dataframe to an interactive table.\"\n",
              "              style=\"display:none;\">\n",
              "        \n",
              "  <svg xmlns=\"http://www.w3.org/2000/svg\" height=\"24px\"viewBox=\"0 0 24 24\"\n",
              "       width=\"24px\">\n",
              "    <path d=\"M0 0h24v24H0V0z\" fill=\"none\"/>\n",
              "    <path d=\"M18.56 5.44l.94 2.06.94-2.06 2.06-.94-2.06-.94-.94-2.06-.94 2.06-2.06.94zm-11 1L8.5 8.5l.94-2.06 2.06-.94-2.06-.94L8.5 2.5l-.94 2.06-2.06.94zm10 10l.94 2.06.94-2.06 2.06-.94-2.06-.94-.94-2.06-.94 2.06-2.06.94z\"/><path d=\"M17.41 7.96l-1.37-1.37c-.4-.4-.92-.59-1.43-.59-.52 0-1.04.2-1.43.59L10.3 9.45l-7.72 7.72c-.78.78-.78 2.05 0 2.83L4 21.41c.39.39.9.59 1.41.59.51 0 1.02-.2 1.41-.59l7.78-7.78 2.81-2.81c.8-.78.8-2.07 0-2.86zM5.41 20L4 18.59l7.72-7.72 1.47 1.35L5.41 20z\"/>\n",
              "  </svg>\n",
              "      </button>\n",
              "      \n",
              "  <style>\n",
              "    .colab-df-container {\n",
              "      display:flex;\n",
              "      flex-wrap:wrap;\n",
              "      gap: 12px;\n",
              "    }\n",
              "\n",
              "    .colab-df-convert {\n",
              "      background-color: #E8F0FE;\n",
              "      border: none;\n",
              "      border-radius: 50%;\n",
              "      cursor: pointer;\n",
              "      display: none;\n",
              "      fill: #1967D2;\n",
              "      height: 32px;\n",
              "      padding: 0 0 0 0;\n",
              "      width: 32px;\n",
              "    }\n",
              "\n",
              "    .colab-df-convert:hover {\n",
              "      background-color: #E2EBFA;\n",
              "      box-shadow: 0px 1px 2px rgba(60, 64, 67, 0.3), 0px 1px 3px 1px rgba(60, 64, 67, 0.15);\n",
              "      fill: #174EA6;\n",
              "    }\n",
              "\n",
              "    [theme=dark] .colab-df-convert {\n",
              "      background-color: #3B4455;\n",
              "      fill: #D2E3FC;\n",
              "    }\n",
              "\n",
              "    [theme=dark] .colab-df-convert:hover {\n",
              "      background-color: #434B5C;\n",
              "      box-shadow: 0px 1px 3px 1px rgba(0, 0, 0, 0.15);\n",
              "      filter: drop-shadow(0px 1px 2px rgba(0, 0, 0, 0.3));\n",
              "      fill: #FFFFFF;\n",
              "    }\n",
              "  </style>\n",
              "\n",
              "      <script>\n",
              "        const buttonEl =\n",
              "          document.querySelector('#df-f7608f3d-2d29-46ae-af66-10f802a6f2e0 button.colab-df-convert');\n",
              "        buttonEl.style.display =\n",
              "          google.colab.kernel.accessAllowed ? 'block' : 'none';\n",
              "\n",
              "        async function convertToInteractive(key) {\n",
              "          const element = document.querySelector('#df-f7608f3d-2d29-46ae-af66-10f802a6f2e0');\n",
              "          const dataTable =\n",
              "            await google.colab.kernel.invokeFunction('convertToInteractive',\n",
              "                                                     [key], {});\n",
              "          if (!dataTable) return;\n",
              "\n",
              "          const docLinkHtml = 'Like what you see? Visit the ' +\n",
              "            '<a target=\"_blank\" href=https://colab.research.google.com/notebooks/data_table.ipynb>data table notebook</a>'\n",
              "            + ' to learn more about interactive tables.';\n",
              "          element.innerHTML = '';\n",
              "          dataTable['output_type'] = 'display_data';\n",
              "          await google.colab.output.renderOutput(dataTable, element);\n",
              "          const docLink = document.createElement('div');\n",
              "          docLink.innerHTML = docLinkHtml;\n",
              "          element.appendChild(docLink);\n",
              "        }\n",
              "      </script>\n",
              "    </div>\n",
              "  </div>\n",
              "  "
            ]
          },
          "metadata": {},
          "execution_count": 7
        }
      ]
    },
    {
      "cell_type": "markdown",
      "source": [
        "### Fill missing value with NaN"
      ],
      "metadata": {
        "id": "kEcapgODFpw3"
      }
    },
    {
      "cell_type": "code",
      "source": [
        "df.loc[df[\"datakecepatanangin\"] == 0.0, \"datakecepatanangin\"] = np.NAN\n",
        "df.loc[df[\"datasuhuudara\"] == 0.0, \"datasuhuudara\"] = np.NAN\n",
        "df.loc[df[\"datakelembabanudara\"] == 0.0, \"datakelembabanudara\"] = np.NAN\n",
        "df.loc[df[\"dataphtanah\"] == 0.0, \"dataphtanah\"] = np.NAN\n",
        "df.loc[df[\"datakelembabantanah\"] == 0.0, \"datakelembabantanah\"] = np.NAN\n",
        "df.loc[df[\"datasuhutanah\"] == 0.0, \"datasuhutanah\"] = np.NAN\n",
        "\n",
        "df.isnull().sum()[1:6]"
      ],
      "metadata": {
        "colab": {
          "base_uri": "https://localhost:8080/"
        },
        "id": "_ci5Og1p4j0-",
        "outputId": "c58df761-329c-4adb-844c-a2c35cecf62a"
      },
      "execution_count": null,
      "outputs": [
        {
          "output_type": "execute_result",
          "data": {
            "text/plain": [
              "datasuhuudara          32\n",
              "datakelembabanudara    32\n",
              "dataphtanah            32\n",
              "datakelembabantanah    32\n",
              "datasuhutanah          32\n",
              "dtype: int64"
            ]
          },
          "metadata": {},
          "execution_count": 8
        }
      ]
    },
    {
      "cell_type": "markdown",
      "source": [
        "### Check missing value"
      ],
      "metadata": {
        "id": "CJ2xcfe8C0K4"
      }
    },
    {
      "cell_type": "code",
      "source": [
        "mno.matrix(df, figsize = (20, 6))"
      ],
      "metadata": {
        "colab": {
          "base_uri": "https://localhost:8080/",
          "height": 645
        },
        "id": "h5nFkaY046jA",
        "outputId": "706d1f16-1865-4453-d748-7e101df48a40"
      },
      "execution_count": null,
      "outputs": [
        {
          "output_type": "execute_result",
          "data": {
            "text/plain": [
              "<Axes: >"
            ]
          },
          "metadata": {},
          "execution_count": 9
        },
        {
          "output_type": "display_data",
          "data": {
            "text/plain": [
              "<Figure size 2000x600 with 2 Axes>"
            ],
            "image/png": "[encoded data removed]"
          },
          "metadata": {}
        }
      ]
    },
    {
      "cell_type": "markdown",
      "source": [
        "### Create array to hold the collumn"
      ],
      "metadata": {
        "id": "_u1kuzmldT9R"
      }
    },
    {
      "cell_type": "code",
      "source": [
        "missing_columns = ['datakecepatanangin', 'datasuhuudara', 'datakelembabanudara', 'dataphtanah', 'datakelembabantanah', 'datasuhutanah']"
      ],
      "metadata": {
        "id": "Phl9ADCS4-gZ"
      },
      "execution_count": null,
      "outputs": []
    },
    {
      "cell_type": "markdown",
      "source": [
        "### Create Imputation Function"
      ],
      "metadata": {
        "id": "ocJF_a5EJyGz"
      }
    },
    {
      "cell_type": "code",
      "source": [
        "def random_imputation(df, feature):\n",
        "\n",
        "    number_missing = df[feature].isnull().sum()\n",
        "    observed_values = df.loc[df[feature].notnull(), feature]\n",
        "    df.loc[df[feature].isnull(), feature + '_imp'] = np.random.choice(observed_values, number_missing, replace = True)\n",
        "\n",
        "    return df"
      ],
      "metadata": {
        "id": "oCFcdpU75OeR"
      },
      "execution_count": null,
      "outputs": []
    },
    {
      "cell_type": "code",
      "source": [
        "for feature in missing_columns:\n",
        "    df[feature + '_imp'] = df[feature]\n",
        "    df = random_imputation(df, feature)"
      ],
      "metadata": {
        "id": "TfzTeqW25XEj"
      },
      "execution_count": null,
      "outputs": []
    },
    {
      "cell_type": "markdown",
      "source": [
        "### Deterministic Regression Imputation"
      ],
      "metadata": {
        "id": "58t0ldx86Pnp"
      }
    },
    {
      "cell_type": "markdown",
      "source": [
        "In Deterministic Regression Imputation, we replace the missing data with the values predicted in our regression model and repeat this process for each variable."
      ],
      "metadata": {
        "id": "kaoMtLJN6a3q"
      }
    },
    {
      "cell_type": "code",
      "source": [
        "deter_data = pd.DataFrame(columns = [\"Det\" + name for name in missing_columns])\n",
        "\n",
        "for feature in missing_columns:\n",
        "\n",
        "    deter_data[\"Det\" + feature] = df[feature + \"_imp\"]\n",
        "    parameters = list(set(df.columns) - set(missing_columns) - {feature + '_imp'})\n",
        "\n",
        "    #Create a Linear Regression model to estimate the missing data\n",
        "    model = linear_model.LinearRegression()\n",
        "    model.fit(X = df[parameters], y = df[feature + '_imp'])\n",
        "\n",
        "    #observe that I preserve the index of the missing data from the original dataframe\n",
        "    deter_data.loc[df[feature].isnull(), \"Det\" + feature] = model.predict(df[parameters])[df[feature].isnull()]"
      ],
      "metadata": {
        "id": "u6sY9p_E6YQx"
      },
      "execution_count": null,
      "outputs": []
    },
    {
      "cell_type": "markdown",
      "source": [
        "### Check missing value & Output"
      ],
      "metadata": {
        "id": "7dgP9II_cYMd"
      }
    },
    {
      "cell_type": "code",
      "source": [
        "mno.matrix(deter_data, figsize = (20,5))"
      ],
      "metadata": {
        "colab": {
          "base_uri": "https://localhost:8080/",
          "height": 598
        },
        "id": "p9lIdsNa6hRj",
        "outputId": "d3b4413c-1baa-4650-efe4-364ebcd127e0"
      },
      "execution_count": null,
      "outputs": [
        {
          "output_type": "execute_result",
          "data": {
            "text/plain": [
              "<Axes: >"
            ]
          },
          "metadata": {},
          "execution_count": 30
        },
        {
          "output_type": "display_data",
          "data": {
            "text/plain": [
              "<Figure size 2000x500 with 2 Axes>"
            ],
            "image/png": "[encoded data removed]"
          },
          "metadata": {}
        }
      ]
    },
    {
      "cell_type": "code",
      "source": [
        "deter_data['Detdatakecepatanangin'][0:30]"
      ],
      "metadata": {
        "colab": {
          "base_uri": "https://localhost:8080/"
        },
        "id": "KIY-Kuf-7P8w",
        "outputId": "fd14bdc2-d51a-4106-ccfd-27cab89d1f4d"
      },
      "execution_count": null,
      "outputs": [
        {
          "output_type": "execute_result",
          "data": {
            "text/plain": [
              "0     21.784230\n",
              "1     35.705697\n",
              "2     21.546543\n",
              "3     28.944481\n",
              "4     26.946949\n",
              "5     21.465945\n",
              "6     22.893072\n",
              "7     22.179889\n",
              "8     15.048780\n",
              "9     15.193182\n",
              "10    14.849462\n",
              "11    14.695122\n",
              "12    15.253012\n",
              "13    14.880000\n",
              "14    15.176471\n",
              "15    15.111111\n",
              "16    15.094118\n",
              "17    14.806818\n",
              "18    14.862500\n",
              "19    15.250000\n",
              "20    14.895349\n",
              "21    14.988764\n",
              "22    15.246753\n",
              "23    15.371795\n",
              "24    15.025641\n",
              "25    26.902146\n",
              "26    26.948863\n",
              "27    30.223375\n",
              "28    25.407983\n",
              "29    24.000000\n",
              "Name: Detdatakecepatanangin, dtype: float64"
            ]
          },
          "metadata": {},
          "execution_count": 15
        }
      ]
    },
    {
      "cell_type": "markdown",
      "source": [
        "A major disadvantage in this method is that we reduce the inherent variability in the imputed variable. In other words, since we substitute the missing data with regression outputs, the predicted values lie along the regression hyperplane where the variable would have actually contained some noise/bias.\n",
        "\n",
        "We can visualize the above fact in a number of ways. First one is plotting histograms for both the incomplete data and the complete data in which we can observe that the plot of the completed data is taller and narrower when compared to that of the incomplete data. In other words, the complete data has a lesser standard deviation (thus lesser variability) than the incomplete data.\n",
        "\n",
        "Another method would be plotting a boxplot in which we can observe that the IQ Range is pretty compressed for the complete data when compared to that in the incomplete data"
      ],
      "metadata": {
        "id": "I_OaZnbZ7Cr2"
      }
    },
    {
      "cell_type": "markdown",
      "source": [
        "### Stochastic Regression Imputation"
      ],
      "metadata": {
        "id": "1oEN_yy45nke"
      }
    },
    {
      "cell_type": "markdown",
      "source": [
        "To add uncertainity back to the imputed variable values, we can add some normally distributed noise with a mean of zero and the variance equal to the standard error of regression estimates . This method is called as Random Imputation or Stochastic Regression Imputation"
      ],
      "metadata": {
        "id": "dy5iLPCb5pGk"
      }
    },
    {
      "cell_type": "code",
      "source": [
        "random_data = pd.DataFrame(columns = [\"Ran\" + name for name in missing_columns])\n",
        "\n",
        "for feature in missing_columns:\n",
        "\n",
        "    random_data[\"Ran\" + feature] = df[feature + '_imp']\n",
        "    parameters = list(set(df.columns) - set(missing_columns) - {feature + '_imp'})\n",
        "\n",
        "    model = linear_model.LinearRegression()\n",
        "    model.fit(X = df[parameters], y = df[feature + '_imp'])\n",
        "\n",
        "    #Standard Error of the regression estimates is equal to std() of the errors of each estimates\n",
        "    predict = model.predict(df[parameters])\n",
        "    std_error = (predict[df[feature].notnull()] - df.loc[df[feature].notnull(), feature + '_imp']).std()\n",
        "\n",
        "    #observe that I preserve the index of the missing data from the original dataframe\n",
        "    random_predict = np.random.normal(size = df[feature].shape[0],\n",
        "                                      loc = predict,\n",
        "                                      scale = std_error)\n",
        "    random_data.loc[(df[feature].isnull()) & (random_predict > 0), \"Ran\" + feature] = random_predict[(df[feature].isnull()) &\n",
        "                                                                            (random_predict > 0)]"
      ],
      "metadata": {
        "id": "tpcJ5OTb5Zq7"
      },
      "execution_count": null,
      "outputs": []
    },
    {
      "cell_type": "markdown",
      "source": [
        "When we introduce this Gaussian noise we may end up imputing some negative values for the missing data due to the spread of the distibution for a particular pair of mean and standard deviation. But, as per our discussion earlier, there might be some variable whose values can never be zero. For example, kecepatan angin, suhu udara and kelembaban udara.\n",
        "\n",
        "We can avoid this situation by retaining the values introduced by simple random imputation which is discussed above. This apparently reduces the variability that we introduce, but it's something we have to deal with, especially in case of these variables whose values are restricted to ceratin parts of the real number line."
      ],
      "metadata": {
        "id": "rWkH2yfq5w4W"
      }
    },
    {
      "cell_type": "code",
      "source": [
        "sns.set()\n",
        "fig, axes = plt.subplots(nrows = 2, ncols = 2)\n",
        "fig.set_size_inches(8, 8)\n",
        "\n",
        "for index, variable in enumerate(['datakecepatanangin', 'datasuhuudara', 'datakelembabanudara', 'dataphtanah', 'datakelembabantanah', 'datasuhutanah']):\n",
        "    sns.distplot(df[variable].dropna(), kde = False, ax = axes[index, 0])\n",
        "    sns.distplot(random_data[\"Ran\" + variable], kde = False, ax = axes[index, 0], color = 'red')\n",
        "    axes[index, 0].set(xlabel = variable + \" / \" + variable + '_imp')\n",
        "\n",
        "    sns.boxplot(data = pd.concat([df[variable], random_data[\"Ran\" + variable]], axis = 1),\n",
        "                ax = axes[index, 1])\n",
        "\n",
        "    plt.tight_layout()"
      ],
      "metadata": {
        "colab": {
          "base_uri": "https://localhost:8080/",
          "height": 1000
        },
        "id": "Rg5lwJE65Zf0",
        "outputId": "b1c3a20e-8608-4ce0-c27d-330f646bfbdc"
      },
      "execution_count": null,
      "outputs": [
        {
          "output_type": "stream",
          "name": "stderr",
          "text": [
            "<ipython-input-23-ea276f889ce9>:6: UserWarning: \n",
            "\n",
            "`distplot` is a deprecated function and will be removed in seaborn v0.14.0.\n",
            "\n",
            "Please adapt your code to use either `displot` (a figure-level function with\n",
            "similar flexibility) or `histplot` (an axes-level function for histograms).\n",
            "\n",
            "For a guide to updating your code to use the new functions, please see\n",
            "https://gist.github.com/mwaskom/de44147ed2974457ad6372750bbe5751\n",
            "\n",
            "  sns.distplot(df[variable].dropna(), kde = False, ax = axes[index, 0])\n",
            "<ipython-input-23-ea276f889ce9>:7: UserWarning: \n",
            "\n",
            "`distplot` is a deprecated function and will be removed in seaborn v0.14.0.\n",
            "\n",
            "Please adapt your code to use either `displot` (a figure-level function with\n",
            "similar flexibility) or `histplot` (an axes-level function for histograms).\n",
            "\n",
            "For a guide to updating your code to use the new functions, please see\n",
            "https://gist.github.com/mwaskom/de44147ed2974457ad6372750bbe5751\n",
            "\n",
            "  sns.distplot(random_data[\"Ran\" + variable], kde = False, ax = axes[index, 0], color = 'red')\n",
            "<ipython-input-23-ea276f889ce9>:6: UserWarning: \n",
            "\n",
            "`distplot` is a deprecated function and will be removed in seaborn v0.14.0.\n",
            "\n",
            "Please adapt your code to use either `displot` (a figure-level function with\n",
            "similar flexibility) or `histplot` (an axes-level function for histograms).\n",
            "\n",
            "For a guide to updating your code to use the new functions, please see\n",
            "https://gist.github.com/mwaskom/de44147ed2974457ad6372750bbe5751\n",
            "\n",
            "  sns.distplot(df[variable].dropna(), kde = False, ax = axes[index, 0])\n",
            "<ipython-input-23-ea276f889ce9>:7: UserWarning: \n",
            "\n",
            "`distplot` is a deprecated function and will be removed in seaborn v0.14.0.\n",
            "\n",
            "Please adapt your code to use either `displot` (a figure-level function with\n",
            "similar flexibility) or `histplot` (an axes-level function for histograms).\n",
            "\n",
            "For a guide to updating your code to use the new functions, please see\n",
            "https://gist.github.com/mwaskom/de44147ed2974457ad6372750bbe5751\n",
            "\n",
            "  sns.distplot(random_data[\"Ran\" + variable], kde = False, ax = axes[index, 0], color = 'red')\n"
          ]
        },
        {
          "output_type": "error",
          "ename": "IndexError",
          "evalue": "ignored",
          "traceback": [
            "\u001b[0;31m---------------------------------------------------------------------------\u001b[0m",
            "\u001b[0;31mIndexError\u001b[0m                                Traceback (most recent call last)",
            "\u001b[0;32m<ipython-input-23-ea276f889ce9>\u001b[0m in \u001b[0;36m<module>\u001b[0;34m\u001b[0m\n\u001b[1;32m      4\u001b[0m \u001b[0;34m\u001b[0m\u001b[0m\n\u001b[1;32m      5\u001b[0m \u001b[0;32mfor\u001b[0m \u001b[0mindex\u001b[0m\u001b[0;34m,\u001b[0m \u001b[0mvariable\u001b[0m \u001b[0;32min\u001b[0m \u001b[0menumerate\u001b[0m\u001b[0;34m(\u001b[0m\u001b[0;34m[\u001b[0m\u001b[0;34m'datakecepatanangin'\u001b[0m\u001b[0;34m,\u001b[0m \u001b[0;34m'datasuhuudara'\u001b[0m\u001b[0;34m,\u001b[0m \u001b[0;34m'datakelembabanudara'\u001b[0m\u001b[0;34m,\u001b[0m \u001b[0;34m'dataphtanah'\u001b[0m\u001b[0;34m,\u001b[0m \u001b[0;34m'datakelembabantanah'\u001b[0m\u001b[0;34m,\u001b[0m \u001b[0;34m'datasuhutanah'\u001b[0m\u001b[0;34m]\u001b[0m\u001b[0;34m)\u001b[0m\u001b[0;34m:\u001b[0m\u001b[0;34m\u001b[0m\u001b[0;34m\u001b[0m\u001b[0m\n\u001b[0;32m----> 6\u001b[0;31m     \u001b[0msns\u001b[0m\u001b[0;34m.\u001b[0m\u001b[0mdistplot\u001b[0m\u001b[0;34m(\u001b[0m\u001b[0mdf\u001b[0m\u001b[0;34m[\u001b[0m\u001b[0mvariable\u001b[0m\u001b[0;34m]\u001b[0m\u001b[0;34m.\u001b[0m\u001b[0mdropna\u001b[0m\u001b[0;34m(\u001b[0m\u001b[0;34m)\u001b[0m\u001b[0;34m,\u001b[0m \u001b[0mkde\u001b[0m \u001b[0;34m=\u001b[0m \u001b[0;32mFalse\u001b[0m\u001b[0;34m,\u001b[0m \u001b[0max\u001b[0m \u001b[0;34m=\u001b[0m \u001b[0maxes\u001b[0m\u001b[0;34m[\u001b[0m\u001b[0mindex\u001b[0m\u001b[0;34m,\u001b[0m \u001b[0;36m0\u001b[0m\u001b[0;34m]\u001b[0m\u001b[0;34m)\u001b[0m\u001b[0;34m\u001b[0m\u001b[0;34m\u001b[0m\u001b[0m\n\u001b[0m\u001b[1;32m      7\u001b[0m     \u001b[0msns\u001b[0m\u001b[0;34m.\u001b[0m\u001b[0mdistplot\u001b[0m\u001b[0;34m(\u001b[0m\u001b[0mrandom_data\u001b[0m\u001b[0;34m[\u001b[0m\u001b[0;34m\"Ran\"\u001b[0m \u001b[0;34m+\u001b[0m \u001b[0mvariable\u001b[0m\u001b[0;34m]\u001b[0m\u001b[0;34m,\u001b[0m \u001b[0mkde\u001b[0m \u001b[0;34m=\u001b[0m \u001b[0;32mFalse\u001b[0m\u001b[0;34m,\u001b[0m \u001b[0max\u001b[0m \u001b[0;34m=\u001b[0m \u001b[0maxes\u001b[0m\u001b[0;34m[\u001b[0m\u001b[0mindex\u001b[0m\u001b[0;34m,\u001b[0m \u001b[0;36m0\u001b[0m\u001b[0;34m]\u001b[0m\u001b[0;34m,\u001b[0m \u001b[0mcolor\u001b[0m \u001b[0;34m=\u001b[0m \u001b[0;34m'red'\u001b[0m\u001b[0;34m)\u001b[0m\u001b[0;34m\u001b[0m\u001b[0;34m\u001b[0m\u001b[0m\n\u001b[1;32m      8\u001b[0m     \u001b[0maxes\u001b[0m\u001b[0;34m[\u001b[0m\u001b[0mindex\u001b[0m\u001b[0;34m,\u001b[0m \u001b[0;36m0\u001b[0m\u001b[0;34m]\u001b[0m\u001b[0;34m.\u001b[0m\u001b[0mset\u001b[0m\u001b[0;34m(\u001b[0m\u001b[0mxlabel\u001b[0m \u001b[0;34m=\u001b[0m \u001b[0mvariable\u001b[0m \u001b[0;34m+\u001b[0m \u001b[0;34m\" / \"\u001b[0m \u001b[0;34m+\u001b[0m \u001b[0mvariable\u001b[0m \u001b[0;34m+\u001b[0m \u001b[0;34m'_imp'\u001b[0m\u001b[0;34m)\u001b[0m\u001b[0;34m\u001b[0m\u001b[0;34m\u001b[0m\u001b[0m\n",
            "\u001b[0;31mIndexError\u001b[0m: index 2 is out of bounds for axis 0 with size 2"
          ]
        },
        {
          "output_type": "display_data",
          "data": {
            "text/plain": [
              "<Figure size 576x576 with 4 Axes>"
            ],
            "image/png": "[encoded data removed]"
          },
          "metadata": {}
        }
      ]
    },
    {
      "cell_type": "code",
      "source": [
        "pd.concat([df[['datakecepatanangin', 'datasuhuudara', 'datakelembabanudara', 'dataphtanah', 'datakelembabantanah', 'datasuhutanah']], random_data[['Randatakecepatanangin', 'Randatasuhuudara', 'Randatakelembabanudara', 'Randataphtanah', 'Randatakelembabantanah', 'Randatasuhutanah']]], axis = 1).describe().T"
      ],
      "metadata": {
        "colab": {
          "base_uri": "https://localhost:8080/",
          "height": 425
        },
        "id": "a07jF0aS52tG",
        "outputId": "8e7bec26-431e-4e8f-d636-952769c52178"
      },
      "execution_count": null,
      "outputs": [
        {
          "output_type": "execute_result",
          "data": {
            "text/plain": [
              "                        count       mean        std        min        25%  \\\n",
              "datakecepatanangin       58.0  27.199184  14.092232  14.695122  15.250753   \n",
              "datasuhuudara            58.0  24.056728   5.600201  15.000000  20.202830   \n",
              "datakelembabanudara      58.0  81.738643   9.457658  73.895349  74.688679   \n",
              "dataphtanah              58.0   5.462026   0.907487   4.262500   4.545455   \n",
              "datakelembabantanah      58.0  50.126447   8.104980  43.687500  44.051213   \n",
              "datasuhutanah            58.0  22.458582   6.147654  12.056872  21.311379   \n",
              "Randatakecepatanangin    90.0  26.633731  14.556700   2.953687  15.206575   \n",
              "Randatasuhuudara         90.0  23.829259   4.828625  15.000000  20.231806   \n",
              "Randatakelembabanudara   90.0  81.609834   9.314871  69.327384  74.634771   \n",
              "Randataphtanah           90.0   5.496310   0.873472   4.098449   4.859885   \n",
              "Randatakelembabantanah   90.0  50.115375   6.849238  43.244882  44.054245   \n",
              "Randatasuhutanah         90.0  22.107517   5.881472  11.129017  18.414112   \n",
              "\n",
              "                              50%        75%         max  \n",
              "datakecepatanangin      25.209190  31.469340   84.060976  \n",
              "datasuhuudara           21.524207  32.042135   33.141026  \n",
              "datakelembabanudara     76.653019  91.126953   97.393365  \n",
              "dataphtanah              5.060797   6.225067    8.000000  \n",
              "datakelembabantanah     46.536335  61.973131   63.188235  \n",
              "datasuhutanah           22.816038  28.974725   29.927711  \n",
              "Randatakecepatanangin   25.193627  31.830863   84.060976  \n",
              "Randatasuhuudara        21.995261  26.497979   33.141026  \n",
              "Randatakelembabanudara  77.801136  88.536123  108.945374  \n",
              "Randataphtanah           5.291465   6.225067    8.000000  \n",
              "Randatakelembabantanah  47.152120  53.536612   63.188235  \n",
              "Randatasuhutanah        22.772911  26.945923   30.856629  "
            ],
            "text/html": [
              "\n",
              "  <div id=\"df-b177a65b-5cf7-47a7-9d1d-cd8263d1b6d4\">\n",
              "    <div class=\"colab-df-container\">\n",
              "      <div>\n",
              "<style scoped>\n",
              "    .dataframe tbody tr th:only-of-type {\n",
              "        vertical-align: middle;\n",
              "    }\n",
              "\n",
              "    .dataframe tbody tr th {\n",
              "        vertical-align: top;\n",
              "    }\n",
              "\n",
              "    .dataframe thead th {\n",
              "        text-align: right;\n",
              "    }\n",
              "</style>\n",
              "<table border=\"1\" class=\"dataframe\">\n",
              "  <thead>\n",
              "    <tr style=\"text-align: right;\">\n",
              "      <th></th>\n",
              "      <th>count</th>\n",
              "      <th>mean</th>\n",
              "      <th>std</th>\n",
              "      <th>min</th>\n",
              "      <th>25%</th>\n",
              "      <th>50%</th>\n",
              "      <th>75%</th>\n",
              "      <th>max</th>\n",
              "    </tr>\n",
              "  </thead>\n",
              "  <tbody>\n",
              "    <tr>\n",
              "      <th>datakecepatanangin</th>\n",
              "      <td>58.0</td>\n",
              "      <td>27.199184</td>\n",
              "      <td>14.092232</td>\n",
              "      <td>14.695122</td>\n",
              "      <td>15.250753</td>\n",
              "      <td>25.209190</td>\n",
              "      <td>31.469340</td>\n",
              "      <td>84.060976</td>\n",
              "    </tr>\n",
              "    <tr>\n",
              "      <th>datasuhuudara</th>\n",
              "      <td>58.0</td>\n",
              "      <td>24.056728</td>\n",
              "      <td>5.600201</td>\n",
              "      <td>15.000000</td>\n",
              "      <td>20.202830</td>\n",
              "      <td>21.524207</td>\n",
              "      <td>32.042135</td>\n",
              "      <td>33.141026</td>\n",
              "    </tr>\n",
              "    <tr>\n",
              "      <th>datakelembabanudara</th>\n",
              "      <td>58.0</td>\n",
              "      <td>81.738643</td>\n",
              "      <td>9.457658</td>\n",
              "      <td>73.895349</td>\n",
              "      <td>74.688679</td>\n",
              "      <td>76.653019</td>\n",
              "      <td>91.126953</td>\n",
              "      <td>97.393365</td>\n",
              "    </tr>\n",
              "    <tr>\n",
              "      <th>dataphtanah</th>\n",
              "      <td>58.0</td>\n",
              "      <td>5.462026</td>\n",
              "      <td>0.907487</td>\n",
              "      <td>4.262500</td>\n",
              "      <td>4.545455</td>\n",
              "      <td>5.060797</td>\n",
              "      <td>6.225067</td>\n",
              "      <td>8.000000</td>\n",
              "    </tr>\n",
              "    <tr>\n",
              "      <th>datakelembabantanah</th>\n",
              "      <td>58.0</td>\n",
              "      <td>50.126447</td>\n",
              "      <td>8.104980</td>\n",
              "      <td>43.687500</td>\n",
              "      <td>44.051213</td>\n",
              "      <td>46.536335</td>\n",
              "      <td>61.973131</td>\n",
              "      <td>63.188235</td>\n",
              "    </tr>\n",
              "    <tr>\n",
              "      <th>datasuhutanah</th>\n",
              "      <td>58.0</td>\n",
              "      <td>22.458582</td>\n",
              "      <td>6.147654</td>\n",
              "      <td>12.056872</td>\n",
              "      <td>21.311379</td>\n",
              "      <td>22.816038</td>\n",
              "      <td>28.974725</td>\n",
              "      <td>29.927711</td>\n",
              "    </tr>\n",
              "    <tr>\n",
              "      <th>Randatakecepatanangin</th>\n",
              "      <td>90.0</td>\n",
              "      <td>26.633731</td>\n",
              "      <td>14.556700</td>\n",
              "      <td>2.953687</td>\n",
              "      <td>15.206575</td>\n",
              "      <td>25.193627</td>\n",
              "      <td>31.830863</td>\n",
              "      <td>84.060976</td>\n",
              "    </tr>\n",
              "    <tr>\n",
              "      <th>Randatasuhuudara</th>\n",
              "      <td>90.0</td>\n",
              "      <td>23.829259</td>\n",
              "      <td>4.828625</td>\n",
              "      <td>15.000000</td>\n",
              "      <td>20.231806</td>\n",
              "      <td>21.995261</td>\n",
              "      <td>26.497979</td>\n",
              "      <td>33.141026</td>\n",
              "    </tr>\n",
              "    <tr>\n",
              "      <th>Randatakelembabanudara</th>\n",
              "      <td>90.0</td>\n",
              "      <td>81.609834</td>\n",
              "      <td>9.314871</td>\n",
              "      <td>69.327384</td>\n",
              "      <td>74.634771</td>\n",
              "      <td>77.801136</td>\n",
              "      <td>88.536123</td>\n",
              "      <td>108.945374</td>\n",
              "    </tr>\n",
              "    <tr>\n",
              "      <th>Randataphtanah</th>\n",
              "      <td>90.0</td>\n",
              "      <td>5.496310</td>\n",
              "      <td>0.873472</td>\n",
              "      <td>4.098449</td>\n",
              "      <td>4.859885</td>\n",
              "      <td>5.291465</td>\n",
              "      <td>6.225067</td>\n",
              "      <td>8.000000</td>\n",
              "    </tr>\n",
              "    <tr>\n",
              "      <th>Randatakelembabantanah</th>\n",
              "      <td>90.0</td>\n",
              "      <td>50.115375</td>\n",
              "      <td>6.849238</td>\n",
              "      <td>43.244882</td>\n",
              "      <td>44.054245</td>\n",
              "      <td>47.152120</td>\n",
              "      <td>53.536612</td>\n",
              "      <td>63.188235</td>\n",
              "    </tr>\n",
              "    <tr>\n",
              "      <th>Randatasuhutanah</th>\n",
              "      <td>90.0</td>\n",
              "      <td>22.107517</td>\n",
              "      <td>5.881472</td>\n",
              "      <td>11.129017</td>\n",
              "      <td>18.414112</td>\n",
              "      <td>22.772911</td>\n",
              "      <td>26.945923</td>\n",
              "      <td>30.856629</td>\n",
              "    </tr>\n",
              "  </tbody>\n",
              "</table>\n",
              "</div>\n",
              "      <button class=\"colab-df-convert\" onclick=\"convertToInteractive('df-b177a65b-5cf7-47a7-9d1d-cd8263d1b6d4')\"\n",
              "              title=\"Convert this dataframe to an interactive table.\"\n",
              "              style=\"display:none;\">\n",
              "        \n",
              "  <svg xmlns=\"http://www.w3.org/2000/svg\" height=\"24px\"viewBox=\"0 0 24 24\"\n",
              "       width=\"24px\">\n",
              "    <path d=\"M0 0h24v24H0V0z\" fill=\"none\"/>\n",
              "    <path d=\"M18.56 5.44l.94 2.06.94-2.06 2.06-.94-2.06-.94-.94-2.06-.94 2.06-2.06.94zm-11 1L8.5 8.5l.94-2.06 2.06-.94-2.06-.94L8.5 2.5l-.94 2.06-2.06.94zm10 10l.94 2.06.94-2.06 2.06-.94-2.06-.94-.94-2.06-.94 2.06-2.06.94z\"/><path d=\"M17.41 7.96l-1.37-1.37c-.4-.4-.92-.59-1.43-.59-.52 0-1.04.2-1.43.59L10.3 9.45l-7.72 7.72c-.78.78-.78 2.05 0 2.83L4 21.41c.39.39.9.59 1.41.59.51 0 1.02-.2 1.41-.59l7.78-7.78 2.81-2.81c.8-.78.8-2.07 0-2.86zM5.41 20L4 18.59l7.72-7.72 1.47 1.35L5.41 20z\"/>\n",
              "  </svg>\n",
              "      </button>\n",
              "      \n",
              "  <style>\n",
              "    .colab-df-container {\n",
              "      display:flex;\n",
              "      flex-wrap:wrap;\n",
              "      gap: 12px;\n",
              "    }\n",
              "\n",
              "    .colab-df-convert {\n",
              "      background-color: #E8F0FE;\n",
              "      border: none;\n",
              "      border-radius: 50%;\n",
              "      cursor: pointer;\n",
              "      display: none;\n",
              "      fill: #1967D2;\n",
              "      height: 32px;\n",
              "      padding: 0 0 0 0;\n",
              "      width: 32px;\n",
              "    }\n",
              "\n",
              "    .colab-df-convert:hover {\n",
              "      background-color: #E2EBFA;\n",
              "      box-shadow: 0px 1px 2px rgba(60, 64, 67, 0.3), 0px 1px 3px 1px rgba(60, 64, 67, 0.15);\n",
              "      fill: #174EA6;\n",
              "    }\n",
              "\n",
              "    [theme=dark] .colab-df-convert {\n",
              "      background-color: #3B4455;\n",
              "      fill: #D2E3FC;\n",
              "    }\n",
              "\n",
              "    [theme=dark] .colab-df-convert:hover {\n",
              "      background-color: #434B5C;\n",
              "      box-shadow: 0px 1px 3px 1px rgba(0, 0, 0, 0.15);\n",
              "      filter: drop-shadow(0px 1px 2px rgba(0, 0, 0, 0.3));\n",
              "      fill: #FFFFFF;\n",
              "    }\n",
              "  </style>\n",
              "\n",
              "      <script>\n",
              "        const buttonEl =\n",
              "          document.querySelector('#df-b177a65b-5cf7-47a7-9d1d-cd8263d1b6d4 button.colab-df-convert');\n",
              "        buttonEl.style.display =\n",
              "          google.colab.kernel.accessAllowed ? 'block' : 'none';\n",
              "\n",
              "        async function convertToInteractive(key) {\n",
              "          const element = document.querySelector('#df-b177a65b-5cf7-47a7-9d1d-cd8263d1b6d4');\n",
              "          const dataTable =\n",
              "            await google.colab.kernel.invokeFunction('convertToInteractive',\n",
              "                                                     [key], {});\n",
              "          if (!dataTable) return;\n",
              "\n",
              "          const docLinkHtml = 'Like what you see? Visit the ' +\n",
              "            '<a target=\"_blank\" href=https://colab.research.google.com/notebooks/data_table.ipynb>data table notebook</a>'\n",
              "            + ' to learn more about interactive tables.';\n",
              "          element.innerHTML = '';\n",
              "          dataTable['output_type'] = 'display_data';\n",
              "          await google.colab.output.renderOutput(dataTable, element);\n",
              "          const docLink = document.createElement('div');\n",
              "          docLink.innerHTML = docLinkHtml;\n",
              "          element.appendChild(docLink);\n",
              "        }\n",
              "      </script>\n",
              "    </div>\n",
              "  </div>\n",
              "  "
            ]
          },
          "metadata": {},
          "execution_count": 24
        }
      ]
    },
    {
      "cell_type": "markdown",
      "source": [
        "Note :\n",
        "- ada nilai kelembaban udara > 100, perlu analisa lebih lanjut apakah masih memungkinkan kelembaban udara diatas nilai 100."
      ],
      "metadata": {
        "id": "a-ICuwSEGtde"
      }
    },
    {
      "cell_type": "code",
      "source": [
        "random_data['Randatakecepatanangin'][0:30]"
      ],
      "metadata": {
        "colab": {
          "base_uri": "https://localhost:8080/"
        },
        "id": "4rina1TV_LJK",
        "outputId": "c81474dd-056e-466c-f426-02b4d71df4b7"
      },
      "execution_count": null,
      "outputs": [
        {
          "output_type": "execute_result",
          "data": {
            "text/plain": [
              "0      4.013126\n",
              "1     41.073710\n",
              "2     25.216044\n",
              "3     11.300780\n",
              "4     54.732103\n",
              "5      2.953687\n",
              "6      4.740886\n",
              "7     14.880000\n",
              "8     15.048780\n",
              "9     15.193182\n",
              "10    14.849462\n",
              "11    14.695122\n",
              "12    15.253012\n",
              "13    14.880000\n",
              "14    15.176471\n",
              "15    15.111111\n",
              "16    15.094118\n",
              "17    14.806818\n",
              "18    14.862500\n",
              "19    15.250000\n",
              "20    14.895349\n",
              "21    14.988764\n",
              "22    15.246753\n",
              "23    15.371795\n",
              "24    15.025641\n",
              "25    37.935060\n",
              "26    32.588047\n",
              "27     3.835521\n",
              "28    21.141397\n",
              "29    24.000000\n",
              "Name: Randatakecepatanangin, dtype: float64"
            ]
          },
          "metadata": {},
          "execution_count": 26
        }
      ]
    },
    {
      "cell_type": "markdown",
      "source": [
        "### Download files"
      ],
      "metadata": {
        "id": "C-SSOdL4De5v"
      }
    },
    {
      "cell_type": "code",
      "source": [
        "#download file csv\n",
        "deter_data.to_excel(\"iot_boyolali.xlsx\", index=False)\n",
        "\n",
        "#library untuk download file\n",
        "from google.colab import files\n",
        "files.download(\"iot_boyolali.xlsx\")"
      ],
      "metadata": {
        "colab": {
          "base_uri": "https://localhost:8080/",
          "height": 17
        },
        "id": "-eaggZZcDAJy",
        "outputId": "fbfbd97c-d713-43da-ba56-1f0be3821f9f"
      },
      "execution_count": null,
      "outputs": [
        {
          "output_type": "display_data",
          "data": {
            "text/plain": [
              "<IPython.core.display.Javascript object>"
            ],
            "application/javascript": [
              "\n",
              "    async function download(id, filename, size) {\n",
              "      if (!google.colab.kernel.accessAllowed) {\n",
              "        return;\n",
              "      }\n",
              "      const div = document.createElement('div');\n",
              "      const label = document.createElement('label');\n",
              "      label.textContent = `Downloading \"${filename}\": `;\n",
              "      div.appendChild(label);\n",
              "      const progress = document.createElement('progress');\n",
              "      progress.max = size;\n",
              "      div.appendChild(progress);\n",
              "      document.body.appendChild(div);\n",
              "\n",
              "      const buffers = [];\n",
              "      let downloaded = 0;\n",
              "\n",
              "      const channel = await google.colab.kernel.comms.open(id);\n",
              "      // Send a message to notify the kernel that we're ready.\n",
              "      channel.send({})\n",
              "\n",
              "      for await (const message of channel.messages) {\n",
              "        // Send a message to notify the kernel that we're ready.\n",
              "        channel.send({})\n",
              "        if (message.buffers) {\n",
              "          for (const buffer of message.buffers) {\n",
              "            buffers.push(buffer);\n",
              "            downloaded += buffer.byteLength;\n",
              "            progress.value = downloaded;\n",
              "          }\n",
              "        }\n",
              "      }\n",
              "      const blob = new Blob(buffers, {type: 'application/binary'});\n",
              "      const a = document.createElement('a');\n",
              "      a.href = window.URL.createObjectURL(blob);\n",
              "      a.download = filename;\n",
              "      div.appendChild(a);\n",
              "      a.click();\n",
              "      div.remove();\n",
              "    }\n",
              "  "
            ]
          },
          "metadata": {}
        },
        {
          "output_type": "display_data",
          "data": {
            "text/plain": [
              "<IPython.core.display.Javascript object>"
            ],
            "application/javascript": [
              "download(\"download_e783439a-b408-44c2-96e8-ae56ad3a0d6f\", \"iot_boyolali.xlsx\", 11053)"
            ]
          },
          "metadata": {}
        }
      ]
    }
  ]
}